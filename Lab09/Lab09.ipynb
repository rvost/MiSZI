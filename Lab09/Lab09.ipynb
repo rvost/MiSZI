{
 "cells": [
  {
   "cell_type": "markdown",
   "metadata": {},
   "source": [
    "# Лабораторная работа №9 по курсу \"Методы и средства передачи информации\""
   ]
  },
  {
   "cell_type": "markdown",
   "metadata": {},
   "source": [
    "_Выполнил студент группы А-07-18 Востриков Роман_"
   ]
  },
  {
   "cell_type": "markdown",
   "metadata": {},
   "source": [
    "## Задание 1"
   ]
  },
  {
   "cell_type": "markdown",
   "metadata": {},
   "source": [
    "Построить таблицу синдромов для кода Хэмминга (7, 4)."
   ]
  },
  {
   "cell_type": "markdown",
   "metadata": {},
   "source": [
    "### Решение"
   ]
  },
  {
   "cell_type": "markdown",
   "metadata": {},
   "source": [
    "Код Хэмминг(7,4) имеет следующие порождающую и проверочную матрицу:\n",
    "$$\n",
    "G=\n",
    "\\begin{pmatrix}\n",
    "1 & 0 & 0 & 0 & 1 & 0 & 1 \\\\\n",
    "0 & 1 & 0 & 0 & 1 & 1 & 1 \\\\ \n",
    "0 & 0 & 1 & 0 & 1 & 1 & 0 \\\\ \n",
    "0 & 0 & 0 & 1 & 0 & 1 & 1 \\\\ \n",
    "\\end{pmatrix}, \\;\n",
    "H =\n",
    "\\begin{pmatrix}\n",
    "1 & 1 & 1 & 0 & 1 & 0 & 0 \\\\\n",
    "0 & 1 & 1 & 1 & 0 & 1 & 0 \\\\ \n",
    "1 & 1 & 0 & 1 & 0 & 0 & 1 \\\\\n",
    "\\end{pmatrix}\n",
    "$$\n",
    "\n",
    "Получим таблицу кодовых слов $T = A\\times G$, где $A$ - матрица из всех сообщений длины 4, записанных по строкам."
   ]
  },
  {
   "cell_type": "code",
   "execution_count": 1,
   "metadata": {},
   "outputs": [],
   "source": [
    "import numpy as np"
   ]
  },
  {
   "cell_type": "code",
   "execution_count": 2,
   "metadata": {},
   "outputs": [
    {
     "data": {
      "text/plain": [
       "array([[0, 0, 0, 0, 0, 0, 0],\n",
       "       [0, 0, 0, 1, 0, 1, 1],\n",
       "       [0, 0, 1, 0, 1, 1, 0],\n",
       "       [0, 0, 1, 1, 1, 0, 1],\n",
       "       [0, 1, 0, 0, 1, 1, 1],\n",
       "       [0, 1, 0, 1, 1, 0, 0],\n",
       "       [0, 1, 1, 0, 0, 0, 1],\n",
       "       [0, 1, 1, 1, 0, 1, 0],\n",
       "       [1, 0, 0, 0, 1, 0, 1],\n",
       "       [1, 0, 0, 1, 1, 1, 0],\n",
       "       [1, 0, 1, 0, 0, 1, 1],\n",
       "       [1, 0, 1, 1, 0, 0, 0],\n",
       "       [1, 1, 0, 0, 0, 1, 0],\n",
       "       [1, 1, 0, 1, 0, 0, 1],\n",
       "       [1, 1, 1, 0, 1, 0, 0],\n",
       "       [1, 1, 1, 1, 1, 1, 1]])"
      ]
     },
     "execution_count": 2,
     "metadata": {},
     "output_type": "execute_result"
    }
   ],
   "source": [
    "G = np.array([[1, 0, 0, 0, 1, 0, 1],\n",
    "              [0, 1, 0, 0, 1, 1, 1],\n",
    "              [0, 0, 1, 0, 1, 1, 0],\n",
    "              [0, 0, 0, 1, 0, 1, 1]])\n",
    "\n",
    "H = np.array([[1, 1, 1, 0, 1, 0, 0],\n",
    "              [0, 1, 1, 1, 0, 1, 0],\n",
    "              [1, 1, 0, 1, 0, 0, 1]])\n",
    "\n",
    "A = np.array([[0, 0, 0, 0],\n",
    "              [0, 0, 0, 1],\n",
    "              [0, 0, 1, 0],\n",
    "              [0, 0, 1, 1],\n",
    "              [0, 1, 0, 0],\n",
    "              [0, 1, 0, 1],\n",
    "              [0, 1, 1, 0],\n",
    "              [0, 1, 1, 1],\n",
    "              [1, 0, 0, 0],\n",
    "              [1, 0, 0, 1],\n",
    "              [1, 0, 1, 0],\n",
    "              [1, 0, 1, 1],\n",
    "              [1, 1, 0, 0],\n",
    "              [1, 1, 0, 1],\n",
    "              [1, 1, 1, 0],\n",
    "              [1, 1, 1, 1]])\n",
    "\n",
    "np.mod(A @ G, 2)"
   ]
  },
  {
   "cell_type": "markdown",
   "metadata": {},
   "source": [
    "$$\n",
    "C = T^T=\n",
    "\\begin{pmatrix}\n",
    "0 & 0 & 0 & 0 & 0 & 0 & 0 & 0 & 1 & 1 & 1 & 1 & 1 & 1 & 1 & 1 \\\\\n",
    "0 & 0 & 0 & 0 & 1 & 1 & 1 & 1 & 0 & 0 & 0 & 0 & 1 & 1 & 1 & 1 \\\\\n",
    "0 & 0 & 1 & 1 & 0 & 0 & 1 & 1 & 0 & 0 & 1 & 1 & 0 & 0 & 1 & 1 \\\\\n",
    "0 & 1 & 0 & 1 & 0 & 1 & 0 & 1 & 0 & 1 & 0 & 1 & 0 & 1 & 0 & 1 \\\\\n",
    "0 & 0 & 1 & 1 & 1 & 1 & 0 & 0 & 1 & 1 & 0 & 0 & 0 & 0 & 1 & 1 \\\\\n",
    "0 & 1 & 1 & 0 & 1 & 0 & 0 & 1 & 0 & 1 & 1 & 0 & 1 & 0 & 0 & 1 \\\\\n",
    "0 & 1 & 0 & 1 & 1 & 0 & 1 & 0 & 1 & 0 & 1 & 0 & 0 & 1 & 0 & 1 \\\\\n",
    "\\end{pmatrix}\n",
    "$$"
   ]
  },
  {
   "cell_type": "markdown",
   "metadata": {},
   "source": [
    "Возьмем вектор $w_1$, которого нет в $C$, и с помощью него получим $C_1$, из которого найдем лидер $L_1$:\n",
    "$$\n",
    "w_1 = \n",
    "\\begin{pmatrix}\n",
    "1 \\\\\n",
    "0 \\\\\n",
    "0 \\\\\n",
    "0 \\\\\n",
    "0 \\\\\n",
    "0 \\\\\n",
    "0 \\\\\n",
    "\\end{pmatrix};\n",
    "C_1 =\n",
    "\\begin{pmatrix}\n",
    "1 & 1 & 1 & 1 & 1 & 1 & 1 & 1 & 0 & 0 & 0 & 0 & 0 & 0 & 0 & 0 \\\\\n",
    "0 & 0 & 0 & 0 & 1 & 1 & 1 & 1 & 0 & 0 & 0 & 0 & 1 & 1 & 1 & 1 \\\\\n",
    "0 & 0 & 1 & 1 & 0 & 0 & 1 & 1 & 0 & 0 & 1 & 1 & 0 & 0 & 1 & 1 \\\\\n",
    "0 & 1 & 0 & 1 & 0 & 1 & 0 & 1 & 0 & 1 & 0 & 1 & 0 & 1 & 0 & 1 \\\\\n",
    "0 & 0 & 1 & 1 & 1 & 1 & 0 & 0 & 1 & 1 & 0 & 0 & 0 & 0 & 1 & 1 \\\\\n",
    "0 & 1 & 1 & 0 & 1 & 0 & 0 & 1 & 0 & 1 & 1 & 0 & 1 & 0 & 0 & 1 \\\\\n",
    "0 & 1 & 0 & 1 & 1 & 0 & 1 & 0 & 1 & 0 & 1 & 0 & 0 & 1 & 0 & 1 \\\\\n",
    "\\end{pmatrix};\n",
    "L_1 = \n",
    "\\begin{pmatrix}\n",
    "1 \\\\\n",
    "0 \\\\\n",
    "0 \\\\\n",
    "0 \\\\\n",
    "0 \\\\\n",
    "0 \\\\\n",
    "0 \\\\\n",
    "\\end{pmatrix};\n",
    "$$\n",
    "\n",
    "Теперь найдем синдром $S_1=L_1^T\\times H^T = \\begin{pmatrix} 1 & 0 &1\\end{pmatrix}$"
   ]
  },
  {
   "cell_type": "code",
   "execution_count": 3,
   "metadata": {},
   "outputs": [
    {
     "data": {
      "text/plain": [
       "array([1, 0, 1])"
      ]
     },
     "execution_count": 3,
     "metadata": {},
     "output_type": "execute_result"
    }
   ],
   "source": [
    "L1T = np.array([1, 0, 0, 0, 0, 0, 0])\n",
    "np.mod(L1T @ H.T, 2)"
   ]
  },
  {
   "cell_type": "markdown",
   "metadata": {},
   "source": [
    "Возьмем вектор $w_2$, которого нет в $C$, и с помощью него получим $C_2$, из которого найдем лидер $L_2$:\n",
    "$$\n",
    "w_2 = \n",
    "\\begin{pmatrix}\n",
    "1 \\\\\n",
    "1 \\\\\n",
    "0 \\\\\n",
    "0 \\\\\n",
    "0 \\\\\n",
    "0 \\\\\n",
    "0 \\\\\n",
    "\\end{pmatrix};\n",
    "C_2 =\n",
    "\\begin{pmatrix}\n",
    "1 & 1 & 1 & 1 & 1 & 1 & 1 & 1 & 0 & 0 & 0 & 0 & 0 & 0 & 0 & 0 \\\\\n",
    "1 & 1 & 1 & 1 & 0 & 0 & 0 & 0 & 1 & 1 & 1 & 1 & 0 & 0 & 0 & 0 \\\\\n",
    "0 & 0 & 1 & 1 & 0 & 0 & 1 & 1 & 0 & 0 & 1 & 1 & 0 & 0 & 1 & 1 \\\\\n",
    "0 & 1 & 0 & 1 & 0 & 1 & 0 & 1 & 0 & 1 & 0 & 1 & 0 & 1 & 0 & 1 \\\\\n",
    "0 & 0 & 1 & 1 & 1 & 1 & 0 & 0 & 1 & 1 & 0 & 0 & 0 & 0 & 1 & 1 \\\\\n",
    "0 & 1 & 1 & 0 & 1 & 0 & 0 & 1 & 0 & 1 & 1 & 0 & 1 & 0 & 0 & 1 \\\\\n",
    "0 & 1 & 0 & 1 & 1 & 0 & 1 & 0 & 1 & 0 & 1 & 0 & 0 & 1 & 0 & 1 \\\\\n",
    "\\end{pmatrix};\n",
    "L_2 = \n",
    "\\begin{pmatrix}\n",
    "0 \\\\\n",
    "0 \\\\\n",
    "0 \\\\\n",
    "0 \\\\\n",
    "0 \\\\\n",
    "1 \\\\\n",
    "0 \\\\\n",
    "\\end{pmatrix};\n",
    "$$\n",
    "\n",
    "Теперь найдем синдром $S_2=L_2^T\\times H^T = \\begin{pmatrix} 0 & 1 & 0\\end{pmatrix}$"
   ]
  },
  {
   "cell_type": "code",
   "execution_count": 4,
   "metadata": {},
   "outputs": [
    {
     "data": {
      "text/plain": [
       "array([0, 1, 0])"
      ]
     },
     "execution_count": 4,
     "metadata": {},
     "output_type": "execute_result"
    }
   ],
   "source": [
    "L2T = np.array([0, 0, 0, 0, 0, 1, 0])\n",
    "np.mod(L2T @ H.T, 2)"
   ]
  },
  {
   "cell_type": "markdown",
   "metadata": {},
   "source": [
    "Возьмем вектор $w_3$, которого нет в $C$, и с помощью него получим $C_3$, из которого найдем лидер $L_3$:\n",
    "$$\n",
    "w_3 = \n",
    "\\begin{pmatrix}\n",
    "1 \\\\\n",
    "1 \\\\\n",
    "1 \\\\\n",
    "0 \\\\\n",
    "0 \\\\\n",
    "0 \\\\\n",
    "0 \\\\\n",
    "\\end{pmatrix};\n",
    "C_3 =\n",
    "\\begin{pmatrix}\n",
    "1 & 1 & 1 & 1 & 1 & 1 & 1 & 1 & 0 & 0 & 0 & 0 & 0 & 0 & 0 & 0 \\\\\n",
    "1 & 1 & 1 & 1 & 0 & 0 & 0 & 0 & 1 & 1 & 1 & 1 & 0 & 0 & 0 & 0 \\\\\n",
    "1 & 1 & 0 & 0 & 1 & 1 & 0 & 0 & 1 & 1 & 0 & 0 & 1 & 1 & 0 & 0 \\\\\n",
    "0 & 1 & 0 & 1 & 0 & 1 & 0 & 1 & 0 & 1 & 0 & 1 & 0 & 1 & 0 & 1 \\\\\n",
    "0 & 0 & 1 & 1 & 1 & 1 & 0 & 0 & 1 & 1 & 0 & 0 & 0 & 0 & 1 & 1 \\\\\n",
    "0 & 1 & 1 & 0 & 1 & 0 & 0 & 1 & 0 & 1 & 1 & 0 & 1 & 0 & 0 & 1 \\\\\n",
    "0 & 1 & 0 & 1 & 1 & 0 & 1 & 0 & 1 & 0 & 1 & 0 & 0 & 1 & 0 & 1 \\\\\n",
    "\\end{pmatrix};\n",
    "L_3 = \n",
    "\\begin{pmatrix}\n",
    "0 \\\\\n",
    "0 \\\\\n",
    "0 \\\\\n",
    "0 \\\\\n",
    "1 \\\\\n",
    "0 \\\\\n",
    "0 \\\\\n",
    "\\end{pmatrix};\n",
    "$$\n",
    "\n",
    "Теперь найдем синдром $S_3=L_3^T\\times H^T = \\begin{pmatrix} 1 & 0 & 0\\end{pmatrix}$"
   ]
  },
  {
   "cell_type": "code",
   "execution_count": 5,
   "metadata": {},
   "outputs": [
    {
     "data": {
      "text/plain": [
       "array([1, 0, 0])"
      ]
     },
     "execution_count": 5,
     "metadata": {},
     "output_type": "execute_result"
    }
   ],
   "source": [
    "L3T = np.array([0, 0, 0, 0, 1, 0, 0])\n",
    "np.mod(L3T @ H.T, 2)"
   ]
  },
  {
   "cell_type": "markdown",
   "metadata": {},
   "source": [
    "Возьмем вектор $w_4$, которого нет в $C$, и с помощью него получим $C_4$, из которого найдем лидер $L_4$:\n",
    "$$\n",
    "w_4 = \n",
    "\\begin{pmatrix}\n",
    "1 \\\\\n",
    "1 \\\\\n",
    "1 \\\\\n",
    "1 \\\\\n",
    "0 \\\\\n",
    "0 \\\\\n",
    "0 \\\\\n",
    "\\end{pmatrix};\n",
    "C_4 =\n",
    "\\begin{pmatrix}\n",
    "1 & 1 & 1 & 1 & 1 & 1 & 1 & 1 & 0 & 0 & 0 & 0 & 0 & 0 & 0 & 0 \\\\\n",
    "1 & 1 & 1 & 1 & 0 & 0 & 0 & 0 & 1 & 1 & 1 & 1 & 0 & 0 & 0 & 0 \\\\\n",
    "1 & 1 & 0 & 0 & 1 & 1 & 0 & 0 & 1 & 1 & 0 & 0 & 1 & 1 & 0 & 0 \\\\\n",
    "1 & 0 & 1 & 0 & 1 & 0 & 1 & 0 & 1 & 0 & 1 & 0 & 1 & 0 & 1 & 0 \\\\\n",
    "0 & 0 & 1 & 1 & 1 & 1 & 0 & 0 & 1 & 1 & 0 & 0 & 0 & 0 & 1 & 1 \\\\\n",
    "0 & 1 & 1 & 0 & 1 & 0 & 0 & 1 & 0 & 1 & 1 & 0 & 1 & 0 & 0 & 1 \\\\\n",
    "0 & 1 & 0 & 1 & 1 & 0 & 1 & 0 & 1 & 0 & 1 & 0 & 0 & 1 & 0 & 1 \\\\\n",
    "\\end{pmatrix};\n",
    "L_4 = \n",
    "\\begin{pmatrix}\n",
    "0 \\\\\n",
    "1 \\\\\n",
    "0 \\\\\n",
    "0 \\\\\n",
    "0 \\\\\n",
    "0 \\\\\n",
    "0 \\\\\n",
    "\\end{pmatrix};\n",
    "$$\n",
    "\n",
    "Теперь найдем синдром $S_4=L_4^T\\times H^T = \\begin{pmatrix} 1 & 1 & 1\\end{pmatrix}$"
   ]
  },
  {
   "cell_type": "code",
   "execution_count": 6,
   "metadata": {},
   "outputs": [
    {
     "data": {
      "text/plain": [
       "array([1, 1, 1])"
      ]
     },
     "execution_count": 6,
     "metadata": {},
     "output_type": "execute_result"
    }
   ],
   "source": [
    "L4T = np.array([0, 1, 0, 0, 0, 0, 0])\n",
    "np.mod(L4T @ H.T, 2)"
   ]
  },
  {
   "cell_type": "markdown",
   "metadata": {},
   "source": [
    "Возьмем вектор $w_5$, которого нет в $C$, и с помощью него получим $C_5$, из которого найдем лидер $L_5$:\n",
    "$$\n",
    "w_5 = \n",
    "\\begin{pmatrix}\n",
    "1 \\\\\n",
    "1 \\\\\n",
    "1 \\\\\n",
    "1 \\\\\n",
    "1 \\\\\n",
    "0 \\\\\n",
    "0 \\\\\n",
    "\\end{pmatrix};\n",
    "C_5 =\n",
    "\\begin{pmatrix}\n",
    "1 & 1 & 1 & 1 & 1 & 1 & 1 & 1 & 0 & 0 & 0 & 0 & 0 & 0 & 0 & 0 \\\\\n",
    "1 & 1 & 1 & 1 & 0 & 0 & 0 & 0 & 1 & 1 & 1 & 1 & 0 & 0 & 0 & 0 \\\\\n",
    "1 & 1 & 0 & 0 & 1 & 1 & 0 & 0 & 1 & 1 & 0 & 0 & 1 & 1 & 0 & 0 \\\\\n",
    "1 & 0 & 1 & 0 & 1 & 0 & 1 & 0 & 1 & 0 & 1 & 0 & 1 & 0 & 1 & 0 \\\\\n",
    "1 & 1 & 0 & 0 & 0 & 0 & 1 & 1 & 0 & 0 & 1 & 1 & 1 & 1 & 0 & 0 \\\\\n",
    "0 & 1 & 1 & 0 & 1 & 0 & 0 & 1 & 0 & 1 & 1 & 0 & 1 & 0 & 0 & 1 \\\\\n",
    "0 & 1 & 0 & 1 & 1 & 0 & 1 & 0 & 1 & 0 & 1 & 0 & 0 & 1 & 0 & 1 \\\\\n",
    "\\end{pmatrix};\n",
    "L_5 = \n",
    "\\begin{pmatrix}\n",
    "0 \\\\\n",
    "0 \\\\\n",
    "0 \\\\\n",
    "1 \\\\\n",
    "0 \\\\\n",
    "0 \\\\\n",
    "0 \\\\\n",
    "\\end{pmatrix};\n",
    "$$\n",
    "\n",
    "Теперь найдем синдром $S_5=L_5^T\\times H^T = \\begin{pmatrix} 0 & 1 & 1\\end{pmatrix}$"
   ]
  },
  {
   "cell_type": "code",
   "execution_count": 7,
   "metadata": {},
   "outputs": [
    {
     "data": {
      "text/plain": [
       "array([0, 1, 1])"
      ]
     },
     "execution_count": 7,
     "metadata": {},
     "output_type": "execute_result"
    }
   ],
   "source": [
    "L5T = np.array([0, 0, 0, 1, 0, 0, 0])\n",
    "np.mod(L5T @ H.T, 2)"
   ]
  },
  {
   "cell_type": "markdown",
   "metadata": {},
   "source": [
    "Возьмем вектор $w_6$, которого нет в $C$, и с помощью него получим $C_6$, из которого найдем лидер $L_6$:\n",
    "$$\n",
    "w_6 = \n",
    "\\begin{pmatrix}\n",
    "1 \\\\\n",
    "1 \\\\\n",
    "1 \\\\\n",
    "1 \\\\\n",
    "1 \\\\\n",
    "1 \\\\\n",
    "0 \\\\\n",
    "\\end{pmatrix};\n",
    "C_6 =\n",
    "\\begin{pmatrix}\n",
    "1 & 1 & 1 & 1 & 1 & 1 & 1 & 1 & 0 & 0 & 0 & 0 & 0 & 0 & 0 & 0 \\\\\n",
    "1 & 1 & 1 & 1 & 0 & 0 & 0 & 0 & 1 & 1 & 1 & 1 & 0 & 0 & 0 & 0 \\\\\n",
    "1 & 1 & 0 & 0 & 1 & 1 & 0 & 0 & 1 & 1 & 0 & 0 & 1 & 1 & 0 & 0 \\\\\n",
    "1 & 0 & 1 & 0 & 1 & 0 & 1 & 0 & 1 & 0 & 1 & 0 & 1 & 0 & 1 & 0 \\\\\n",
    "1 & 1 & 0 & 0 & 0 & 0 & 1 & 1 & 0 & 0 & 1 & 1 & 1 & 1 & 0 & 0 \\\\\n",
    "1 & 0 & 0 & 1 & 0 & 1 & 1 & 0 & 1 & 0 & 0 & 1 & 0 & 1 & 1 & 0 \\\\\n",
    "0 & 1 & 0 & 1 & 1 & 0 & 1 & 0 & 1 & 0 & 1 & 0 & 0 & 1 & 0 & 1 \\\\\n",
    "\\end{pmatrix};\n",
    "L_6 = \n",
    "\\begin{pmatrix}\n",
    "0 \\\\\n",
    "0 \\\\\n",
    "0 \\\\\n",
    "0 \\\\\n",
    "0 \\\\\n",
    "0 \\\\\n",
    "1 \\\\\n",
    "\\end{pmatrix};\n",
    "$$\n",
    "\n",
    "Теперь найдем синдром $S_6=L_6^T\\times H^T = \\begin{pmatrix} 0 & 0 & 1\\end{pmatrix}$"
   ]
  },
  {
   "cell_type": "code",
   "execution_count": 8,
   "metadata": {},
   "outputs": [
    {
     "data": {
      "text/plain": [
       "array([0, 0, 1])"
      ]
     },
     "execution_count": 8,
     "metadata": {},
     "output_type": "execute_result"
    }
   ],
   "source": [
    "L6T = np.array([0, 0, 0, 0, 0, 0, 1])\n",
    "np.mod(L6T @ H.T, 2)"
   ]
  },
  {
   "cell_type": "markdown",
   "metadata": {},
   "source": [
    "Возьмем вектор $w_7$, которого нет в $C$, и с помощью него получим $C_7$, из которого найдем лидер $L_7$:\n",
    "$$\n",
    "w_7 = \n",
    "\\begin{pmatrix}\n",
    "0 \\\\\n",
    "0 \\\\\n",
    "1 \\\\\n",
    "0 \\\\\n",
    "0 \\\\\n",
    "0 \\\\\n",
    "0 \\\\\n",
    "\\end{pmatrix};\n",
    "C_7 =\n",
    "\\begin{pmatrix}\n",
    "0 & 0 & 0 & 0 & 0 & 0 & 0 & 0 & 1 & 1 & 1 & 1 & 1 & 1 & 1 & 1 \\\\\n",
    "0 & 0 & 0 & 0 & 1 & 1 & 1 & 1 & 0 & 0 & 0 & 0 & 1 & 1 & 1 & 1 \\\\\n",
    "1 & 1 & 0 & 0 & 1 & 1 & 0 & 0 & 1 & 1 & 0 & 0 & 1 & 1 & 0 & 0 \\\\\n",
    "0 & 1 & 0 & 1 & 0 & 1 & 0 & 1 & 0 & 1 & 0 & 1 & 0 & 1 & 0 & 1 \\\\\n",
    "0 & 0 & 1 & 1 & 1 & 1 & 0 & 0 & 1 & 1 & 0 & 0 & 0 & 0 & 1 & 1 \\\\\n",
    "0 & 1 & 1 & 0 & 1 & 0 & 0 & 1 & 0 & 1 & 1 & 0 & 1 & 0 & 0 & 1 \\\\\n",
    "0 & 1 & 0 & 1 & 1 & 0 & 1 & 0 & 1 & 0 & 1 & 0 & 0 & 1 & 0 & 1 \\\\\n",
    "\\end{pmatrix};\n",
    "L_7 = \n",
    "\\begin{pmatrix}\n",
    "0 \\\\\n",
    "0 \\\\\n",
    "1 \\\\\n",
    "0 \\\\\n",
    "0 \\\\\n",
    "0 \\\\\n",
    "0 \\\\\n",
    "\\end{pmatrix};\n",
    "$$\n",
    "\n",
    "Теперь найдем синдром $S_7=L_7^T\\times H^T = \\begin{pmatrix} 1 & 1 & 0\\end{pmatrix}$"
   ]
  },
  {
   "cell_type": "code",
   "execution_count": 9,
   "metadata": {},
   "outputs": [
    {
     "data": {
      "text/plain": [
       "array([1, 1, 0])"
      ]
     },
     "execution_count": 9,
     "metadata": {},
     "output_type": "execute_result"
    }
   ],
   "source": [
    "L7T = np.array([0, 0, 1, 0, 0, 0, 0])\n",
    "np.mod(L7T @ H.T, 2)"
   ]
  },
  {
   "cell_type": "markdown",
   "metadata": {},
   "source": [
    "#### Таблица синдромов\n",
    "|Синдром|$(1\\:0\\:1)$|$(1\\:1\\:1)$|$(1\\:1\\:0)$|$(0\\:1\\:1)$|$(1\\:0\\:0)$|$(0\\:1\\:0)$|$(0\\:0\\:1)$|\n",
    "|:-----:|:---------:|:---------:|:---------:|:---------:|:---------:|:---------:|:---------:|\n",
    "|Лидер соотв. смежного класса|1000000|0100000|0010000|0001000|0000100|0000010|0000001|\n",
    "|Номер позиции с ошибкой| 1|2|3|4|5|6|7|"
   ]
  },
  {
   "cell_type": "markdown",
   "metadata": {},
   "source": [
    "## Задание 2"
   ]
  },
  {
   "cell_type": "markdown",
   "metadata": {},
   "source": [
    "Составить программу, которая выводит смежный класс и лидеров смежного класса. Таблица кодовых слов и некодовое слово вводится в программу."
   ]
  },
  {
   "cell_type": "markdown",
   "metadata": {},
   "source": [
    "### Решение"
   ]
  },
  {
   "cell_type": "markdown",
   "metadata": {},
   "source": [
    "Для решениея задачи реализуем следующие функции (w представлен вектором-строкой для удобства ввода):"
   ]
  },
  {
   "cell_type": "code",
   "execution_count": 10,
   "metadata": {},
   "outputs": [],
   "source": [
    "# проверка, является ли вектор w (строка) кодовым словом таблицы С\n",
    "def is_codeword(w, C):\n",
    "    return w.tolist() in C.T.tolist()"
   ]
  },
  {
   "cell_type": "code",
   "execution_count": 11,
   "metadata": {},
   "outputs": [],
   "source": [
    "# нахождение смежного класса для некодового слова w (представленного вектором-строкой) по таблице кодовых слов C\n",
    "def get_adjoining_class(w, C):\n",
    "    if not is_codeword(w, C):\n",
    "        return np.mod((C.T + w).T, 2)\n",
    "    else: \n",
    "        raise Exception(\"w является кодовым словом\")"
   ]
  },
  {
   "cell_type": "code",
   "execution_count": 12,
   "metadata": {},
   "outputs": [],
   "source": [
    "# определение веса как количества единиц в кодовом слове\n",
    "def code_weight(word):\n",
    "    return np.count_nonzero(word)"
   ]
  },
  {
   "cell_type": "code",
   "execution_count": 13,
   "metadata": {},
   "outputs": [],
   "source": [
    "def get_leaders(C):\n",
    "    weights = np.apply_along_axis(code_weight, 0, C)\n",
    "    l_weight = weights.min()\n",
    "    return C.T[np.where(weights == l_weight)]"
   ]
  },
  {
   "cell_type": "markdown",
   "metadata": {},
   "source": [
    "Для создания интерфейса нам понадобятся вспомогательные функции:"
   ]
  },
  {
   "cell_type": "code",
   "execution_count": 14,
   "metadata": {},
   "outputs": [],
   "source": [
    "# преобразование строки в вектор \n",
    "def to_vector(s):\n",
    "    res = map(int, filter(None, s.split(' ')))\n",
    "    return np.array(list(res), dtype='i8')"
   ]
  },
  {
   "cell_type": "code",
   "execution_count": 21,
   "metadata": {},
   "outputs": [],
   "source": [
    "# преобразование текста в матрицу\n",
    "def to_matrix(t):\n",
    "    rows = filter(None, t.split('\\n'))\n",
    "    m = [to_vector(r) for r in rows]\n",
    "    return np.array(m)"
   ]
  },
  {
   "cell_type": "code",
   "execution_count": 38,
   "metadata": {},
   "outputs": [],
   "source": [
    "# преобразование матрицы в код LaTeX для форматированного вывода\n",
    "def latex_mat(m):\n",
    "    l = m.tolist()\n",
    "    rows = [r\"&\".join(str(i) for i in row) for row in l]\n",
    "    inner = r\"\\\\\".join(rows)\n",
    "    return r\"\\begin{pmatrix}\"+inner+r\"\\end{pmatrix}\""
   ]
  },
  {
   "cell_type": "code",
   "execution_count": 31,
   "metadata": {},
   "outputs": [],
   "source": [
    "# преобразование массива в код LaTeX вектора-столбца\n",
    "def latex_cvector(v):\n",
    "    l = v.tolist()\n",
    "    inner = r\"\\\\\".join([str(i) for i in l])\n",
    "    return r\"\\begin{pmatrix}\"+inner+r\"\\end{pmatrix}\""
   ]
  },
  {
   "cell_type": "markdown",
   "metadata": {},
   "source": [
    "Теперь можно объединить реализованные функции в программу с интерактивным интерфейсом:"
   ]
  },
  {
   "cell_type": "code",
   "execution_count": 50,
   "metadata": {},
   "outputs": [],
   "source": [
    "import ipywidgets as widgets\n",
    "from IPython.display import Latex"
   ]
  },
  {
   "cell_type": "code",
   "execution_count": 52,
   "metadata": {},
   "outputs": [],
   "source": [
    "c = widgets.Textarea(\n",
    "    value='',\n",
    "    placeholder='Введите матрицу кодовой таблицы, разделяя числа пробелами',\n",
    "    description='C:',\n",
    ")\n",
    "w = widgets.Text(\n",
    "    value='',\n",
    "    placeholder='Введите некодовое слово, разделяя числа пробелами',\n",
    "    description='w:',\n",
    ")"
   ]
  },
  {
   "cell_type": "code",
   "execution_count": 71,
   "metadata": {},
   "outputs": [],
   "source": [
    "def adj_class_leaders(w, C):\n",
    "    # переходим от строкового представления к массивам\n",
    "    w = to_vector(w)\n",
    "    C = to_matrix(C)\n",
    "    \n",
    "    adj_C = get_adjoining_class(w, C)\n",
    "    leaders = get_leaders(adj_C)\n",
    "    \n",
    "    part_1 = fr\"Смежный класс:$$C_w={latex_mat(adj_C)}$$\"\n",
    "    \n",
    "    part_2 = \"Лидер(ы):$${}$$\".format(r',\\:'.join(f'L_{i}={latex_cvector(l)}' for i, l in enumerate(leaders)))\n",
    "    display(Latex(part_1+part_2)) "
   ]
  },
  {
   "cell_type": "code",
   "execution_count": 74,
   "metadata": {},
   "outputs": [
    {
     "data": {
      "application/vnd.jupyter.widget-view+json": {
       "model_id": "0c3f0ffb1d124c2c9a566c530fadc73a",
       "version_major": 2,
       "version_minor": 0
      },
      "text/plain": [
       "interactive(children=(Text(value='1 1 1 1 1 1 0', description='w:', placeholder='Введите некодовое слово, разд…"
      ]
     },
     "metadata": {},
     "output_type": "display_data"
    }
   ],
   "source": [
    "ui = widgets.HBox([c, w])\n",
    "out = widgets.interactive(adj_class_leaders, {'manual': True}, w=w, C=c)\n",
    "\n",
    "display(out)"
   ]
  },
  {
   "cell_type": "markdown",
   "metadata": {},
   "source": [
    "## Вывод\n",
    "\n",
    "В ходе данной лабораторной работы было изучено декодирование по синдрому, составление таблицы синдромов с помощью смежных классов и их лидеро, позволяющая определить место ошибки в закодированном слове. Была написана программа для нахождения смежного класса и его лидера при известной таблице кодовых слов и поступающем на вход некодовом слове. "
   ]
  }
 ],
 "metadata": {
  "kernelspec": {
   "display_name": "Python 3",
   "language": "python",
   "name": "python3"
  },
  "language_info": {
   "codemirror_mode": {
    "name": "ipython",
    "version": 3
   },
   "file_extension": ".py",
   "mimetype": "text/x-python",
   "name": "python",
   "nbconvert_exporter": "python",
   "pygments_lexer": "ipython3",
   "version": "3.7.6"
  }
 },
 "nbformat": 4,
 "nbformat_minor": 4
}
