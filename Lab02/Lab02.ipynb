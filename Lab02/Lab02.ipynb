{
 "cells": [
  {
   "cell_type": "markdown",
   "metadata": {},
   "source": [
    "# Лабораторная  работа №2 по курсу \"Методы и средства передачи информации\""
   ]
  },
  {
   "cell_type": "markdown",
   "metadata": {},
   "source": [
    "_Выполнил студент группы А-07-18 Востриков Роман_"
   ]
  },
  {
   "cell_type": "code",
   "execution_count": 2,
   "metadata": {},
   "outputs": [],
   "source": [
    "import ipywidgets as widgets # элементы интерактивного пользовательского интерфейса\n",
    "import numpy as np # вычисления\n",
    "import matplotlib.pyplot as plt # построение графиков\n",
    "from scipy import signal # функции для получения сигналов"
   ]
  },
  {
   "cell_type": "markdown",
   "metadata": {},
   "source": [
    "## Задача №1\n",
    "Выполнить преобразование Фурье для функции:\n",
    "![title](func.png)\n",
    "Период функции $T=2\\pi$\n",
    "\n",
    "$a_0 = 1$\n",
    "\n",
    "$a_m=0$\n",
    "\n",
    "$b_m=\\frac{(-1)^m+1}{\\pi m}$"
   ]
  },
  {
   "cell_type": "markdown",
   "metadata": {},
   "source": [
    "1. Проверить формулы.\n",
    "2. Составить программу, которая вычисляет разложение функции $f(x)$ для различных m определить  максимальную разность между значениями функции $f(x)$ и c помощью  разложения Фурье.\n",
    "3. Построить график при различных m сравнить визуально схожесть графиков исходной функции и разложения Фурье."
   ]
  },
  {
   "cell_type": "markdown",
   "metadata": {},
   "source": [
    "### Решение"
   ]
  },
  {
   "cell_type": "markdown",
   "metadata": {},
   "source": [
    "#### Проверим формулы:\n",
    "1. $$a_0=\\frac{1}{\\pi}\\int_{-\\pi}^{\\pi}f(x)dx=\\frac{1}{\\pi}\\int_{-\\pi}^{0}0dx+\\frac{1}{\\pi}\\int_{0}^{\\pi}1dx=\\frac{1}{\\pi}\\cdot\\pi=1$$\n",
    "2. $$a_m=\\frac{1}{\\pi}\\int_{-\\pi}^{\\pi}f(x)\\cos mxdx=\\frac{1}{\\pi}\\int_{-\\pi}^{0}0\\cos mxdx+\\frac{1}{\\pi}\\int_{0}^{\\pi}1\\cos m xdx= \\frac{1}{\\pi n}\\sin mx|_0^\\pi=0\\: при\\: m>0$$\n",
    "3. $$b_m=\\frac{1}{\\pi}\\int_{-\\pi}^{\\pi}f(x)\\sin mxdx=\\frac{1}{\\pi}\\int_{-\\pi}^{0}0\\sin mxdx+\\frac{1}{\\pi}\\int_{0}^{\\pi}1\\sin m xdx= -\\frac{1}{\\pi n}\\cos mx|_0^\\pi=-\\frac{1}{\\pi m}(\\cos m\\pi - \\cos 0)=-\\frac{1}{\\pi m}((-1)^m-1)=\\frac{(-1)^{m+1}+1}{\\pi m}$$ Таким образом коэффициенты $b_m$ не совпадают с полученными в задании."
   ]
  },
  {
   "cell_type": "code",
   "execution_count": 3,
   "metadata": {},
   "outputs": [],
   "source": [
    "import math"
   ]
  },
  {
   "cell_type": "code",
   "execution_count": 4,
   "metadata": {},
   "outputs": [],
   "source": [
    "def original_function(x):\n",
    "    res = signal.square(x, 0.5)\n",
    "    return 0 if res < 0 else res"
   ]
  },
  {
   "cell_type": "code",
   "execution_count": 5,
   "metadata": {},
   "outputs": [],
   "source": [
    "def ft_function(m, x):\n",
    "    result = 0.5 # <=> a0 = 1\n",
    "    for i in range(1,m+1):\n",
    "        result += (math.pow(-1,i+1)+1)/(math.pi*i)*math.sin(i*x)\n",
    "    return result"
   ]
  },
  {
   "cell_type": "code",
   "execution_count": 79,
   "metadata": {},
   "outputs": [
    {
     "data": {
      "image/png": "[encoded data removed]",
      "text/plain": [
       "<Figure size 432x288 with 1 Axes>"
      ]
     },
     "metadata": {
      "needs_background": "light"
     },
     "output_type": "display_data"
    }
   ],
   "source": [
    "m = 1000\n",
    "points = 300 # количество точек для построения графика\n",
    "\n",
    "# нахождение значений исходной функции и ее разложением в ряд Фурье на интервале [-2π,2π)\n",
    "t = list(np.linspace(-2*np.pi, 2*np.pi, points))\n",
    "y1 = list(map(original_function, t))\n",
    "y2 = list(map(lambda x: ft_function(m,x), t))\n",
    "\n",
    "\n",
    "plt.plot(t, y1, 'b')\n",
    "plt.plot(t, y2, 'r')\n",
    "plt.show()"
   ]
  },
  {
   "cell_type": "code",
   "execution_count": 74,
   "metadata": {},
   "outputs": [
    {
     "name": "stdout",
     "output_type": "stream",
     "text": [
      "0.1853955295041233\n"
     ]
    }
   ],
   "source": [
    "# вычисление максимальной абсолютной погрешности\n",
    "delta = []\n",
    "for p in zip(y1[50:-50],y2[50:-50]): #отбрасываем несколько крайних точек для более достоверного результата\n",
    "    delta.append(abs(p[0]-p[1]))\n",
    "print(max(delta))"
   ]
  },
  {
   "cell_type": "markdown",
   "metadata": {},
   "source": [
    "## Задача №2\n",
    "Реализовать код проверки на четность.\n",
    "\n",
    "Пусть дано N разрядное двоичное слово (или  массив  из N двоичных цифр 0 или 1)   проверочный (N) разряд по формуле:\n",
    "$$(A_0+A_1+\\ldots+A_{N-1}+A_N) \\mod 2 = 0$$\n",
    "$A_N$ выбирается таким образом, чтобы общая сумма равнялась нулю: если в N разрядном двоичном слове четное количество единиц, то он равен нулю и если нечетное, то  единице.\n",
    "\n",
    "Проверить что при искажении одного или  нечётного количества разрядов  с помощью проверочного разряда можно обнаружить ошибку."
   ]
  },
  {
   "cell_type": "markdown",
   "metadata": {},
   "source": [
    "### Решение"
   ]
  },
  {
   "cell_type": "code",
   "execution_count": 15,
   "metadata": {},
   "outputs": [],
   "source": [
    "# добавление генератора псевдослучайных чисел\n",
    "import random\n",
    "random.seed()"
   ]
  },
  {
   "cell_type": "code",
   "execution_count": 16,
   "metadata": {},
   "outputs": [],
   "source": [
    "# вычисление значения бита проверки на четность\n",
    "def compute_even_bit(msg):\n",
    "    sum = 0\n",
    "    for digit in msg:\n",
    "        sum += int(digit)\n",
    "    return '0' if sum % 2 == 0 else '1'"
   ]
  },
  {
   "cell_type": "code",
   "execution_count": 17,
   "metadata": {},
   "outputs": [],
   "source": [
    "# проверка на четность\n",
    "# true если четность сохраняется <=> сообщение не содержит ошибок\n",
    "# false в противном случае\n",
    "def check_even(msg):\n",
    "    expected = msg[-1]\n",
    "    actual = compute_even_bit(msg[0:-1])\n",
    "    return expected == actual"
   ]
  },
  {
   "cell_type": "code",
   "execution_count": 18,
   "metadata": {},
   "outputs": [],
   "source": [
    "# искажение сообщения с вероятностью p для каждого бита\n",
    "# искажение происходит в предположении, что ошибка не может возникнуть в бите проверки на четность\n",
    "def add_errors(msg, p):\n",
    "    errors = 0\n",
    "    new_msg = ''\n",
    "    for digit in msg[0:-1]:\n",
    "        if random.random() <= p:\n",
    "            new_msg += ('1' if digit == '0' else '0')\n",
    "            errors+=1\n",
    "        else:\n",
    "            new_msg += digit\n",
    "    new_msg += msg[-1]\n",
    "    return (new_msg, errors)"
   ]
  },
  {
   "cell_type": "code",
   "execution_count": 19,
   "metadata": {},
   "outputs": [
    {
     "data": {
      "application/vnd.jupyter.widget-view+json": {
       "model_id": "5c3d15b798c243af904f733093118d17",
       "version_major": 2,
       "version_minor": 0
      },
      "text/plain": [
       "VBox(children=(Text(value='10110101', description='Сообщение:'), Text(value='', description='Сообщение с битом…"
      ]
     },
     "metadata": {},
     "output_type": "display_data"
    }
   ],
   "source": [
    "#создание виджетов для пользовательского интерфейса\n",
    "msg_input = widgets.Text(value='10110101', description='Сообщение:')\n",
    "error_p_input = widgets.FloatSlider(value=0.65, min=0.0, max=1.0, step=0.05, description='Вероятность ошибки:')\n",
    "msg_output = widgets.Text(description='Сообщение с битом четности:', disabled=True)\n",
    "msg_err_output = widgets.Text(description='Искаженное сообщение:', disabled=True)\n",
    "eval_button = widgets.Button(description='Проверить')\n",
    "conclusion_output = widgets.Label(value='')\n",
    "\n",
    "#обработка нажатия на кнопку\n",
    "def on_eval_clicked(e):\n",
    "    msg_output.value = msg_input.value + compute_even_bit(msg_input.value)\n",
    "    errors = add_errors(msg_output.value, error_p_input.value)\n",
    "    msg_err_output.value = f'{errors[0]} ({errors[1]} ошибок)'\n",
    "    conclusion = check_even(errors[0])\n",
    "    #вывод сообщения поясняющего результат проверки\n",
    "    if not conclusion and errors[1] > 0:\n",
    "        conclusion_output.value = 'В сообщении обнаружена ошибка (или нечетное число ошибок)'\n",
    "    elif errors[1] == 0:\n",
    "        conclusion_output.value = 'В сообщении нет ошибок'\n",
    "    else:\n",
    "        conclusion_output.value = 'Четное количество ошибок не было обнаружено'\n",
    "\n",
    "eval_button.on_click(on_eval_clicked)\n",
    "\n",
    "widgets.VBox([msg_input, msg_output, error_p_input, msg_err_output, eval_button, conclusion_output])"
   ]
  },
  {
   "cell_type": "markdown",
   "metadata": {},
   "source": [
    "## Вывод\n",
    "\n",
    "Было проведено разложение в ряд Фурье прямоугольного сигнала, была разработана программа для нахождения значения функции и наибольшего отклонения между суммой ряда и её исходным графиком.\n",
    "\n",
    "Была разработана программа, позволяющая проверять наличие ошибок при передаче сообщения, состоящего из двоичного кода, путем реализации кода проверки на чётность. С использованием данного метода ошибки могут быть обнаружены, только если их количество нечётно."
   ]
  }
 ],
 "metadata": {
  "kernelspec": {
   "display_name": "Python 3",
   "language": "python",
   "name": "python3"
  },
  "language_info": {
   "codemirror_mode": {
    "name": "ipython",
    "version": 3
   },
   "file_extension": ".py",
   "mimetype": "text/x-python",
   "name": "python",
   "nbconvert_exporter": "python",
   "pygments_lexer": "ipython3",
   "version": "3.7.4"
  }
 },
 "nbformat": 4,
 "nbformat_minor": 4
}
