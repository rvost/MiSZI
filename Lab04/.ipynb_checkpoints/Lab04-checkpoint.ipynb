{
 "cells": [
  {
   "cell_type": "markdown",
   "metadata": {},
   "source": [
    "# Лабораторная  работа №4 по курсу \"Методы и средства передачи информации\""
   ]
  },
  {
   "cell_type": "markdown",
   "metadata": {},
   "source": [
    "_Выполнил студент группы А-07-18 Востриков Роман_"
   ]
  },
  {
   "cell_type": "code",
   "execution_count": 1,
   "metadata": {},
   "outputs": [],
   "source": [
    "import ipywidgets as widgets # элементы интерактивного пользовательского интерфейса"
   ]
  },
  {
   "cell_type": "markdown",
   "metadata": {},
   "source": [
    "## Задание 1"
   ]
  },
  {
   "cell_type": "markdown",
   "metadata": {},
   "source": [
    "Найти префиксные коды с указанными ниже длинами слов:\n",
    "1. $l_1=l_2=2$,  $l_3=l_4=3$,  $l_5=l_6=l_7=4$;\n",
    "2. $l_1=1$,  $l_2=2$,  $l_3=l_4=l_5=l_6=3$."
   ]
  },
  {
   "cell_type": "markdown",
   "metadata": {},
   "source": [
    "## Решение"
   ]
  },
  {
   "cell_type": "markdown",
   "metadata": {},
   "source": [
    "Для указанных длин слов были найдены префиксные коды:\n",
    "1. $x_1=00$, $x_2=01$, $x_3=100$, $x_4=101$, $x_5=1100$, $x_6=1110$, $x_7=1111$\n",
    "2. $x_1=0$, $x_2=10$, $x_3=1100$, $x_4=1101$, $x_5=1110$, $x_6=1111$"
   ]
  },
  {
   "cell_type": "markdown",
   "metadata": {},
   "source": [
    "## Задание 2"
   ]
  },
  {
   "cell_type": "markdown",
   "metadata": {},
   "source": [
    "### Часть А\n",
    "Закодировать двоичным кодом Хаффмена множество сообщений, имеющих вероятности: $p_1=0.25$, $p_2=0.2$, $p_3=p_4=p_5=0.15$, $p_6=0.1$\n",
    "\n",
    "### Часть Б\n",
    "|Буква|$Z_1$|$Z_2$|$Z_3$|$Z_4$|$Z_5$|$Z_6$|$Z_7$|$Z_8$|\n",
    "|-----|:---:|:---:|:---:|:---:|:---:|:---:|:---:|:---:|\n",
    "|Вероятность|$0.22$|$0.20$|$0.16$|$0.16$|$0.10$|$0.10$|$0.04$|$0.02$|"
   ]
  },
  {
   "cell_type": "markdown",
   "metadata": {},
   "source": [
    "## Решение"
   ]
  },
  {
   "cell_type": "markdown",
   "metadata": {},
   "source": [
    "### Часть А\n",
    "Пусть алфавит будет $X = \\{ A, B, C, D, E, F\\}$, а набор весов $W = \\{ 0.25, 0.20, 0.15, 0.15, 0.15, 0.10 \\}$.\n",
    "\n",
    "В дереве Хаффмана будет 6 узлов:\n",
    "\n",
    "|     |     |     |     |     |     |     |\n",
    "|-----|:---:|:---:|:---:|:---:|:---:|:---:|\n",
    "|Узел|$A$   |$B$  |$C$  |$D$  |$E$  |$F$  |\n",
    "|Вес |$0.25$|$0.20$|$0.15$|$0.15$|$0.15$|$0.10$|\n",
    "\n",
    "Объединим в один узел два минимальных по весу узла $E$ и $F$:\n",
    "\n",
    "|     |     |     |     |     |     |\n",
    "|-----|:---:|:---:|:---:|:---:|:---:|\n",
    "|Узел|$A$   |$EF$ |$B$  |$C$  |$D$  |\n",
    "|Вес |$0.25$|$0.25$|$0.20$|$0.15$|$0.15$|\n",
    "\n",
    "Затем объединим в один узел два минимальных по весу узла $C$ и $D$:\n",
    "\n",
    "|    |     |     |     |     |\n",
    "|----|:---:|:---:|:---:|:---:|\n",
    "|Узел|$CD$ |$A$  |$EF$ |$B$  |\n",
    "|Вес |$0.30$|$0.25$|$0.25$|$0.20$|\n",
    "\n",
    "Повторим эту же операцию для узлов $EF$ и $B$:\n",
    "\n",
    "|    |     |     |     |\n",
    "|----|:---:|:---:|:---:|\n",
    "|Узел|$BEF$|$CD$ |$A$  |\n",
    "|Вес |$0.45$|$0.30$|$0.25$|\n",
    "\n",
    "Ещё раз повторим эту же операцию для узлов $CD$ и $A$:\n",
    "\n",
    "|    |     |     |\n",
    "|----|:---:|:---:|\n",
    "|Узел|$ACD$|$BEF$|\n",
    "|Вес |$0.55$|$0.45$|\n",
    "\n",
    "На последнем шаге объединм два узла ACD и BEF:\n",
    "\n",
    "|    |        |\n",
    "|----|:------:|\n",
    "|Узел|$ABCDEF$|\n",
    "|Вес |$1$     |\n",
    "\n",
    "Остался один узел, значит, мы пришли к корню дерева Хаффмана (см. Рис.1). Теперь для каждого символа выберем кодовое слово (бинарная последовательность, обозначающая путь по дереву к этому символу от корня):\n",
    "\n",
    "|![Рис.1](huffman-tree-1.png \"Рис.1\")|\n",
    "|:--:|\n",
    "|Рис.1|\n",
    "\n",
    "|     |     |     |     |     |     |     |\n",
    "|-----|:---:|:---:|:---:|:---:|:---:|:---:|\n",
    "|Узел|$A$   |$B$  |$C$  |$D$  |$E$  |$F$  |\n",
    "|Код |$01$  |$10$ |$000$|$001$|$110$|$111$|"
   ]
  },
  {
   "cell_type": "markdown",
   "metadata": {},
   "source": [
    "### Часть Б\n",
    "Пусть алфавит будет $X = \\{ A, B, C, D, E, F, G, H \\}$, a а набор весов $W = \\{ 0.22, 0.20, 0.16, 0.16, 0.10, 0.10, 0.04, 0.02 \\}$.\n",
    "\n",
    "В дереве Хаффмана будет 8 узлов:\n",
    "\n",
    "|     |     |     |     |     |     |     |     |     |\n",
    "|-----|:---:|:---:|:---:|:---:|:---:|:---:|:---:|:---:|\n",
    "|Узел|$A$   |$B$  |$C$  |$D$  |$E$  |$F$  |$G$  |$H$  |\n",
    "|Вес |$0.22$|$0.20$|$0.16$|$0.16$|$0.10$|$0.10$|$0.04$|$0.02$|\n",
    "\n",
    "Объединим в один узел два минимальных по весу узла $G$ и $H$:\n",
    "\n",
    "|     |     |     |     |     |     |     |     |\n",
    "|-----|:---:|:---:|:---:|:---:|:---:|:---:|:---:|\n",
    "|Узел|$A$   |$B$  |$C$  |$D$  |$E$  |$F$  |$GH$ |\n",
    "|Вес |$0.22$|$0.20$|$0.16$|$0.16$|$0.10$|$0.10$|$0.06$|\n",
    "\n",
    "Затем объединим в один узел два минимальных по весу узла $F$ и $GH$:\n",
    "\n",
    "|     |     |     |     |     |     |     |\n",
    "|-----|:---:|:---:|:---:|:---:|:---:|:---:|\n",
    "|Узел|$A$   |$B$  |$C$  |$D$  |$FGH$|$E$  |\n",
    "|Вес |$0.22$|$0.20$|$0.16$|$0.16$|$0.16$|$0.10$|\n",
    "\n",
    "Ещё раз повторим эту же операцию для узлов $FGH$ и $E$:\n",
    "\n",
    "|     |     |     |     |     |     |\n",
    "|-----|:---:|:---:|:---:|:---:|:---:|\n",
    "|Узел |$EFGH$|$A$ |$B$  |$C$  |$D$  |\n",
    "|Вес  |$0.26$|$0.22$|$0.20$|$0.16$|$0.16$|\n",
    "\n",
    "Ещё раз повторим эту же операцию для узлов $C$ и $D$:\n",
    "\n",
    "|     |     |     |     |     |\n",
    "|-----|:---:|:---:|:---:|:---:|\n",
    "|Узел |$CD$ |$EFGH$|$A$ |$B$  |\n",
    "|Вес  |$0.32$|$0.26$|$0.22$|$0.20$|\n",
    "\n",
    "Ещё раз повторим эту же операцию для узлов A и B:\n",
    "\n",
    "|     |     |     |     |\n",
    "|-----|:---:|:---:|:---:|\n",
    "|Узел |$AB$ |$CD$ |$EFGH$|\n",
    "|Вес  |$0.42$|$0.32$|$0.26$|\n",
    "\n",
    "Ещё раз повторим эту же операцию для узлов $CD$ и $EFGH$:\n",
    "\n",
    "|     |     |     |\n",
    "|-----|:---:|:---:|\n",
    "|Узел |$CDEFGH$|$AB$ |\n",
    "|Вес  |$0.58$|$0.42$|\n",
    "\n",
    "На последнем шаге объединм два узла $CDEFGH$ и $AB$:\n",
    "\n",
    "|     |          |\n",
    "|-----|:--------:|\n",
    "|Узел |$ABCDEFGH$|\n",
    "|Вес  |$1$       |\n",
    "\n",
    "Остался один узел, значит, мы пришли к корню дерева Хаффмана (см. Рис.2). Теперь для каждого символа выберем кодовое слово (бинарная последовательность, обозначающая путь по дереву к этому символу от корня):\n",
    "\n",
    "|![Рис.2](huffman-tree-2.png \"Рис.2\")|\n",
    "|:--:|\n",
    "|Рис.2|\n",
    "\n",
    "|     |     |     |     |     |     |     |     |     |\n",
    "|-----|:---:|:---:|:---:|:---:|:---:|:---:|:---:|:---:|\n",
    "|Узел|$A$   |$B$  |$C$  |$D$  |$E$  |$F$  |$G$  |$H$  |\n",
    "|Код |$00$  |$01$ |$100$|$101$|$110$|$1110$|$11110$|$11111$|"
   ]
  },
  {
   "cell_type": "markdown",
   "metadata": {},
   "source": [
    "## Задание 3"
   ]
  },
  {
   "cell_type": "markdown",
   "metadata": {},
   "source": [
    "Составить программу для кодирования и декодирования слов из букв алфавита кодовой таблицы  задания 2."
   ]
  },
  {
   "cell_type": "markdown",
   "metadata": {},
   "source": [
    "## Решение"
   ]
  },
  {
   "cell_type": "code",
   "execution_count": 2,
   "metadata": {},
   "outputs": [],
   "source": [
    "# таблица кодовых слов\n",
    "codebook = {'A': '00', 'B': '01', 'C': '100', 'D': '101', 'E': '110', 'F': '1110', 'G': '11110', 'H': '11111'}"
   ]
  },
  {
   "cell_type": "code",
   "execution_count": 3,
   "metadata": {},
   "outputs": [],
   "source": [
    "def encode(msg, codes):\n",
    "    encoded = [codes[l] for l in msg] # составляем набор кодовых слов, соответствующий  сообщению\n",
    "    return ''.join(encoded)"
   ]
  },
  {
   "cell_type": "code",
   "execution_count": 4,
   "metadata": {},
   "outputs": [],
   "source": [
    "def decode(msg, codes):\n",
    "    import re # библиотека для работы с РВ\n",
    "    # приводим таблицу кодовых слов к удобному для декодирования виду\n",
    "    letters = dict(zip(codes.values(), codes.keys())) \n",
    "   \n",
    "    p = '|'.join(letters.keys()) # создаем РВ из кодовых слов\n",
    "    result = ''\n",
    "    while msg:\n",
    "        m = re.match(p, msg) # получаем следующее кодовое слово\n",
    "        result += letters[m.group()] # добавляем букву, соответствующую кодовому слову к результату\n",
    "        msg = msg[len(m.group()):] \n",
    "    return result"
   ]
  },
  {
   "cell_type": "code",
   "execution_count": 5,
   "metadata": {},
   "outputs": [],
   "source": [
    "# поле для ввода кодовых слов\n",
    "plain_wg = widgets.Text(\n",
    "    placeholder='Введите текст сообщения',\n",
    "    description='Кодирование:',\n",
    "    disabled=False\n",
    ")\n",
    "\n",
    "# поле для ввода вероятностей кодов\n",
    "encoded_wg =widgets.Text(\n",
    "    placeholder='Введите код сообщения',\n",
    "    description='Декодирование:',\n",
    "    disabled=False\n",
    ")\n",
    "\n",
    "# вывод результата\n",
    "output = widgets.Label()"
   ]
  },
  {
   "cell_type": "code",
   "execution_count": 6,
   "metadata": {},
   "outputs": [],
   "source": [
    "# обработка нажатия на кнопку кодирования\n",
    "def on_encode_clicked(e):\n",
    "    output.value = encode(plain_wg.value, codebook)\n",
    "\n",
    "# кнопка для кодирования\n",
    "encode_button = widgets.Button(description='Кодировать')\n",
    "encode_button.on_click(on_encode_clicked)\n",
    "\n",
    "# обработка нажатия на кнопку декодирования\n",
    "def on_decode_clicked(e):\n",
    "    output.value = decode(encoded_wg.value, codebook)\n",
    "\n",
    "# кнопка для декодирования\n",
    "decode_button = widgets.Button(description='Декодировать')\n",
    "decode_button.on_click(on_decode_clicked)"
   ]
  },
  {
   "cell_type": "code",
   "execution_count": 7,
   "metadata": {},
   "outputs": [
    {
     "data": {
      "application/vnd.jupyter.widget-view+json": {
       "model_id": "ff4cd0835a244e709dd531aedc66d6cc",
       "version_major": 2,
       "version_minor": 0
      },
      "text/plain": [
       "Text(value='', description='Кодирование:', placeholder='Введите текст сообщения')"
      ]
     },
     "metadata": {},
     "output_type": "display_data"
    },
    {
     "data": {
      "application/vnd.jupyter.widget-view+json": {
       "model_id": "2e2235dbc7c04b5abef31415b240a309",
       "version_major": 2,
       "version_minor": 0
      },
      "text/plain": [
       "Button(description='Кодировать', style=ButtonStyle())"
      ]
     },
     "metadata": {},
     "output_type": "display_data"
    },
    {
     "data": {
      "application/vnd.jupyter.widget-view+json": {
       "model_id": "62d8386addeb4232b97c572e906c3a9f",
       "version_major": 2,
       "version_minor": 0
      },
      "text/plain": [
       "Text(value='', description='Декодирование:', placeholder='Введите код сообщения')"
      ]
     },
     "metadata": {},
     "output_type": "display_data"
    },
    {
     "data": {
      "application/vnd.jupyter.widget-view+json": {
       "model_id": "b2360132693a45a29269a5de031e42ed",
       "version_major": 2,
       "version_minor": 0
      },
      "text/plain": [
       "Button(description='Декодировать', style=ButtonStyle())"
      ]
     },
     "metadata": {},
     "output_type": "display_data"
    },
    {
     "data": {
      "application/vnd.jupyter.widget-view+json": {
       "model_id": "4183c84f1ee849559aadaee2777f1ff4",
       "version_major": 2,
       "version_minor": 0
      },
      "text/plain": [
       "Label(value='')"
      ]
     },
     "metadata": {},
     "output_type": "display_data"
    }
   ],
   "source": [
    "display(plain_wg, encode_button, encoded_wg, decode_button, output)"
   ]
  },
  {
   "cell_type": "markdown",
   "metadata": {},
   "source": [
    "## Вывод\n",
    "\n",
    "В лабораторной работе было получен префиксный код с кодововыми словами указанной длины. Продемонстрировано получение префиксного кода методом Хаффмана, а также программное кодирование/декодирование префиксного кода по заданной кодовой таблице."
   ]
  }
 ],
 "metadata": {
  "kernelspec": {
   "display_name": "Python 3",
   "language": "python",
   "name": "python3"
  },
  "language_info": {
   "codemirror_mode": {
    "name": "ipython",
    "version": 3
   },
   "file_extension": ".py",
   "mimetype": "text/x-python",
   "name": "python",
   "nbconvert_exporter": "python",
   "pygments_lexer": "ipython3",
   "version": "3.7.4"
  }
 },
 "nbformat": 4,
 "nbformat_minor": 4
}
