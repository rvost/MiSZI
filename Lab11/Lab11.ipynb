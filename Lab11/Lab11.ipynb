{
 "cells": [
  {
   "cell_type": "markdown",
   "metadata": {},
   "source": [
    "# Лабораторная работа №11 по курсу \"Методы и средства передачи информации\""
   ]
  },
  {
   "cell_type": "markdown",
   "metadata": {},
   "source": [
    "_Выполнил студент группы А-07-18 Востриков Роман_"
   ]
  },
  {
   "cell_type": "markdown",
   "metadata": {},
   "source": [
    "## Задание 1\n",
    "Написать программу для умножения двух полиномов над полем $Zp$. В программу вводится простое число $p$. Полиномы задаются коэффициентами и степенью. \n",
    "\n",
    "Например:\n",
    "* $p=2$,\n",
    "* 1-й полином: $x+1$, \n",
    "* 2-й полином: $x+1$, \n",
    "результат: $x^2+1$."
   ]
  },
  {
   "cell_type": "markdown",
   "metadata": {},
   "source": [
    "### Решение"
   ]
  },
  {
   "cell_type": "code",
   "execution_count": 18,
   "metadata": {},
   "outputs": [],
   "source": [
    "# функция умножения многочленов над полем Zp\n",
    "# коэффициенты записываются в порядке возрастания степеней\n",
    "def multiply(a, b, p = 2):\n",
    "    res = [0]*(len(a)+len(b)-1) # результат имеет длину соответствующую степени deg(a)+deg(b)\n",
    "    for pow_ai,ai in enumerate(a):\n",
    "        for pow_bi,bi in enumerate(b):\n",
    "            res[pow_ai+pow_bi] += ai*bi\n",
    "    for i in range(len(res)):\n",
    "        res[i] %= p\n",
    "    return res"
   ]
  },
  {
   "cell_type": "code",
   "execution_count": 21,
   "metadata": {},
   "outputs": [
    {
     "data": {
      "text/plain": [
       "[1, 0, 1]"
      ]
     },
     "execution_count": 21,
     "metadata": {},
     "output_type": "execute_result"
    }
   ],
   "source": [
    "multiply(a=[1,1], b=[1,1], p=2)"
   ]
  },
  {
   "attachments": {
    "image.png": {
     "image/png": "[encoded data removed]"
    }
   },
   "cell_type": "markdown",
   "metadata": {},
   "source": [
    "## Задание 2\n",
    "Определим поле $GF(8)$ как расширение $GF(2^3)$ простого поля $GF(2)$ по модулю неприводимого многочлена $p(x)=x^3+x+1$. Ненулевые элементы поля в этом случае – многочлены над GF(2) со степенями не выше второй:\n",
    "![image.png](attachment:image.png)\n",
    "\n",
    "Пусть $\\alpha$ – корень неприводимого многочлена $p(x)$. Проверить, что он является примитивным элементом поля. Т.к. любой примитивный элемент является корнем $x^{q^m}-1=0$. Подсчитать $\\alpha^{11}$."
   ]
  },
  {
   "cell_type": "markdown",
   "metadata": {},
   "source": [
    "### Решение\n",
    "По определению примитивным элементом называется элемент поля, степени которого образуют все ненулевые элементы поля, вычислим степени $\\alpha$:\n",
    "\n",
    "$\\alpha^0 =1$\n",
    "\n",
    "$\\alpha^1 =\\alpha$\n",
    "\n",
    "$\\alpha^2 =\\alpha^2$\n",
    "\n",
    "$\\alpha^3 \\mod (\\alpha^3+\\alpha+1) = (-\\alpha-1) \\mod 2=\\alpha+1$\n",
    "\n",
    "$\\alpha^4 \\mod (\\alpha^3+\\alpha+1) = (-\\alpha^2-\\alpha) \\mod 2=\\alpha^2+\\alpha$\n",
    "\n",
    "$\\alpha^5 \\mod (\\alpha^3+\\alpha+1) = (-\\alpha^2+\\alpha+1) \\mod 2=\\alpha^2+\\alpha+1$\n",
    "\n",
    "$\\alpha^6 \\mod (\\alpha^3+\\alpha+1) = (\\alpha^2+2\\alpha+1) \\mod 2=\\alpha^2+1$\n",
    "\n",
    "$$\\ldots$$\n",
    "\n",
    "$\\alpha^{11} \\mod (\\alpha^3+\\alpha+1) = (3\\alpha^2+5\\alpha+2)\\mod 2 = \\alpha^2+\\alpha$\n",
    "\n",
    "Мы получили все ненулевые элементы, следовательно, $\\alpha$ – примитивный элемент.\n",
    "\n",
    "Так как в данном поле 7 ненулевых элементов – многочленов над $GF(2)$, то вычислить $\\alpha^{11}$ можно следующим образом: $\\alpha^{11}=\\alpha^{11 \\mod 7}= \\alpha^4 = \\alpha^2+\\alpha$ - тот же результат, что и при вычислении по определению.\n"
   ]
  },
  {
   "cell_type": "markdown",
   "metadata": {},
   "source": [
    "## Вывод\n",
    "\n",
    "В ходе данной лабораторной работы было рассмотрено введение в теорию конечных полей и работа с полиномами над полями. Также был составлен алгоритм вычисления произведения двух полиномов над полем $Zp$, и написана программа, реализующая данный алгоритм."
   ]
  }
 ],
 "metadata": {
  "kernelspec": {
   "display_name": "Python 3",
   "language": "python",
   "name": "python3"
  },
  "language_info": {
   "codemirror_mode": {
    "name": "ipython",
    "version": 3
   },
   "file_extension": ".py",
   "mimetype": "text/x-python",
   "name": "python",
   "nbconvert_exporter": "python",
   "pygments_lexer": "ipython3",
   "version": "3.7.6"
  }
 },
 "nbformat": 4,
 "nbformat_minor": 4
}
