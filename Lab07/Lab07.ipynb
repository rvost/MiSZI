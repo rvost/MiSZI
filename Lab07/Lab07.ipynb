{
 "cells": [
  {
   "cell_type": "markdown",
   "metadata": {},
   "source": [
    "# Лабораторная работа №7 по курсу \"Методы и средства передачи информации\""
   ]
  },
  {
   "cell_type": "markdown",
   "metadata": {},
   "source": [
    "_Выполнил студент группы А-07-18 Востриков Роман_"
   ]
  },
  {
   "cell_type": "markdown",
   "metadata": {},
   "source": [
    "## Задание 1\n",
    "Двоичный (8,4) код задан порождающей матрицей:\n",
    "$$\n",
    "G =\n",
    "\\begin{pmatrix}\n",
    "1 & 1 & 1 & 0 & 1 & 0 & 0 & 0\\\\\n",
    "0 & 1 & 0 & 1 & 1 & 1 & 0 & 0\\\\\n",
    "0 & 0 & 1 & 1 & 0 & 1 & 0 & 1\\\\\n",
    "1 & 0 & 0 & 1 & 1 & 0 & 1 & 0\n",
    "\\end{pmatrix}\n",
    "$$\n",
    "Используя соотношение $А = -(-А^T)^T$. Оттуда найти матрицу $H = ( А | E )$, где $E$- единичная матрица. Определить произведение $G$ и $H^T$\n",
    "\n",
    "А) Составить программу, которая выводит все кодовые слова и определяет кодовое расстояние.\n",
    "\n",
    "Б) Привести матрицу $G$ с помощью эквивалентных преобразований к виду $(E|-A^T)$\n",
    "\n"
   ]
  },
  {
   "cell_type": "markdown",
   "metadata": {},
   "source": [
    "### Решение"
   ]
  },
  {
   "cell_type": "markdown",
   "metadata": {},
   "source": [
    "#### A)"
   ]
  },
  {
   "cell_type": "code",
   "execution_count": 1,
   "metadata": {},
   "outputs": [],
   "source": [
    "import numpy as np # библиотека для производительных матричных операций"
   ]
  },
  {
   "cell_type": "code",
   "execution_count": 38,
   "metadata": {},
   "outputs": [],
   "source": [
    "# вспомогательная функция для приведения массива двоичных цифр к строковому представлению\n",
    "def stringify(arr):\n",
    "    return np.array2string(arr, separator='')[1:-1]"
   ]
  },
  {
   "cell_type": "code",
   "execution_count": 31,
   "metadata": {},
   "outputs": [],
   "source": [
    "G = np.array([[1, 1, 1, 0, 1, 0, 0, 0],\n",
    "              [0, 1, 0, 1, 1, 1, 0, 0],\n",
    "              [0, 0, 1, 1, 0, 1, 0, 1],\n",
    "              [1, 0, 0, 1, 1, 0, 1, 1]])"
   ]
  },
  {
   "cell_type": "code",
   "execution_count": 16,
   "metadata": {},
   "outputs": [],
   "source": [
    "# получение всех сообщений указанной длины\n",
    "def all_messages(length):\n",
    "    words =[i for i in range(0, 2**length)]\n",
    "    strings =[\"{0:b}\".format(i).zfill(length) for i in words]\n",
    "    bits = [np.array(list(map(int, str))) for str in strings]\n",
    "    return bits"
   ]
  },
  {
   "cell_type": "code",
   "execution_count": 1,
   "metadata": {},
   "outputs": [],
   "source": [
    "# получение всех кодовых слов для данной порождающей матрицы\n",
    "def all_codewords(G):\n",
    "    length = G.shape[0]\n",
    "    messages = all_messages(length)\n",
    "    words = [np.mod(x @ G, 2) for x in messages]\n",
    "    return words"
   ]
  },
  {
   "cell_type": "code",
   "execution_count": null,
   "metadata": {},
   "outputs": [],
   "source": [
    "np.array([1, 0, 0, 1])"
   ]
  },
  {
   "cell_type": "markdown",
   "metadata": {},
   "source": [
    "Выведем все кодовы слов для матрицы $G$:"
   ]
  },
  {
   "cell_type": "code",
   "execution_count": 62,
   "metadata": {},
   "outputs": [
    {
     "name": "stdout",
     "output_type": "stream",
     "text": [
      "0000  -  00000000\n",
      "0001  -  00011101\n",
      "0010  -  00100111\n",
      "0011  -  00111010\n",
      "0100  -  01001110\n",
      "0101  -  01010011\n",
      "0110  -  01101001\n",
      "0111  -  01110100\n",
      "1000  -  10000111\n",
      "1001  -  10011010\n",
      "1010  -  10100000\n",
      "1011  -  10111101\n",
      "1100  -  11001001\n",
      "1101  -  11010100\n",
      "1110  -  11101110\n",
      "1111  -  11110011\n"
     ]
    }
   ],
   "source": [
    "w = all_codewords(G) # таблица кодовых слов для определения расстояния\n",
    "\n",
    "p = zip(map(stringify,all_messages(4)), map(stringify, w))\n",
    "for m, c in p:\n",
    "    print(m,\" - \",c)"
   ]
  },
  {
   "cell_type": "markdown",
   "metadata": {},
   "source": [
    "Найдем кодовое расстояние как минимальный вес кодовых слов, не включая первого, содержащего только 0. "
   ]
  },
  {
   "cell_type": "code",
   "execution_count": 51,
   "metadata": {},
   "outputs": [],
   "source": [
    "# определение веса как количества единиц в кодовом слове\n",
    "def code_weight(word):\n",
    "    return np.count_nonzero(word)"
   ]
  },
  {
   "cell_type": "code",
   "execution_count": 55,
   "metadata": {},
   "outputs": [],
   "source": [
    "# определение кодового расстояния \n",
    "def code_distance(words):\n",
    "    return min(map(code_weight, words[1:]))"
   ]
  },
  {
   "cell_type": "code",
   "execution_count": 59,
   "metadata": {},
   "outputs": [
    {
     "name": "stdout",
     "output_type": "stream",
     "text": [
      "Кодовое расстояние:  2\n"
     ]
    }
   ],
   "source": [
    "print(\"Кодовое расстояние: \", code_distance(w))"
   ]
  },
  {
   "cell_type": "markdown",
   "metadata": {},
   "source": [
    "#### Б)\n",
    "\n",
    "$$\n",
    "G = \n",
    "\\begin{pmatrix}\n",
    "1 & 1 & 1 & 0 & 1 & 0 & 0 & 0\\\\\n",
    "0 & 1 & 0 & 1 & 1 & 1 & 0 & 0\\\\\n",
    "0 & 0 & 1 & 1 & 0 & 1 & 0 & 1\\\\\n",
    "1 & 0 & 0 & 1 & 1 & 0 & 1 & 0\n",
    "\\end{pmatrix}\n",
    "\\stackrel{\\begin{array}{c}j_4\\leftrightarrow j_7,\\\\ \n",
    "j_3\\leftrightarrow j_8\\end{array}}{\\sim}\n",
    "\\begin{pmatrix}\n",
    "1 & 1 & 0 & 0 & 1 & 0 & 0 & 1\\\\\n",
    "0 & 1 & 0 & 0 & 1 & 1 & 1 & 0\\\\\n",
    "0 & 0 & 1 & 0 & 0 & 1 & 1 & 1\\\\\n",
    "1 & 0 & 0 & 1 & 1 & 0 & 1 & 0\n",
    "\\end{pmatrix}\n",
    "\\stackrel{i_1-i_2}{\\sim}\n",
    "\\begin{pmatrix}\n",
    "1 & 0 & 0 & 0 & 0 & 1 & 1 & 1\\\\\n",
    "0 & 1 & 0 & 0 & 1 & 1 & 1 & 0\\\\\n",
    "0 & 0 & 1 & 0 & 0 & 1 & 1 & 1\\\\\n",
    "1 & 0 & 0 & 1 & 1 & 0 & 1 & 0\n",
    "\\end{pmatrix}\n",
    "\\stackrel{i_4-i_1}{\\sim}\n",
    "\\begin{pmatrix}\n",
    "1 & 0 & 0 & 0 & 0 & 1 & 1 & 1\\\\\n",
    "0 & 1 & 0 & 0 & 1 & 1 & 1 & 0\\\\\n",
    "0 & 0 & 1 & 0 & 0 & 1 & 1 & 1\\\\\n",
    "0 & 0 & 0 & 1 & 1 & 1 & 0 & 1\n",
    "\\end{pmatrix}\n",
    "$$\n",
    "\n",
    "Откуда \n",
    "$$\n",
    "-A^T = \n",
    "\\begin{pmatrix}\n",
    "0 & 1 & 1 & 1\\\\\n",
    "1 & 1 & 1 & 0\\\\\n",
    "0 & 1 & 1 & 1\\\\\n",
    "1 & 1 & 0 & 1\n",
    "\\end{pmatrix}\n",
    "$$\n",
    "\n",
    "$$\n",
    "A = \n",
    "\\begin{pmatrix}\n",
    "0 & 1 & 0 & 1\\\\\n",
    "1 & 1 & 1 & 1\\\\\n",
    "1 & 1 & 1 & 0\\\\\n",
    "1 & 0 & 1 & 1\n",
    "\\end{pmatrix}\n",
    "$$\n",
    "\n",
    "Зная $A$, можно записать проверочную матрицу $H$:\n",
    "$$\n",
    "H= (A | E) =\n",
    "\\begin{pmatrix}\n",
    "0 & 1 & 0 & 1 & 1 & 0 & 0 & 0\\\\\n",
    "1 & 1 & 1 & 1 & 0 & 1 & 0 & 0\\\\\n",
    "1 & 1 & 1 & 0 & 0 & 0 & 1 & 0\\\\\n",
    "1 & 0 & 1 & 1 & 0 & 0 & 0 & 1\n",
    "\\end{pmatrix}\n",
    "$$"
   ]
  },
  {
   "cell_type": "markdown",
   "metadata": {},
   "source": [
    "Покажем, что $H$ действительно является проверочной для $G$, для этого перемножим $G$ (преобразованную) и $H^T$:"
   ]
  },
  {
   "cell_type": "code",
   "execution_count": 4,
   "metadata": {},
   "outputs": [
    {
     "data": {
      "text/plain": [
       "array([[0, 0, 0, 0],\n",
       "       [0, 0, 0, 0],\n",
       "       [0, 0, 0, 0],\n",
       "       [0, 0, 0, 0]])"
      ]
     },
     "execution_count": 4,
     "metadata": {},
     "output_type": "execute_result"
    }
   ],
   "source": [
    "G = np.array([[1, 0, 0, 0, 0, 1, 1, 1],\n",
    "              [0, 1, 0, 0, 1, 1, 1, 0],\n",
    "              [0, 0, 1, 0, 0, 1, 1, 1],\n",
    "              [0, 0, 0, 1, 1, 1, 0, 1]])\n",
    "\n",
    "H = np.array([[0, 1, 0, 1, 1, 0, 0, 0],\n",
    "              [1, 1, 1, 1, 0, 1, 0, 0],\n",
    "              [1, 1, 1, 0, 0, 0, 1, 0],\n",
    "              [1, 0, 1, 1, 0, 0, 0, 1]])\n",
    "\n",
    "np.mod(G @ H.T, 2)"
   ]
  },
  {
   "attachments": {
    "image.png": {
     "image/png": "[encoded data removed]"
    }
   },
   "cell_type": "markdown",
   "metadata": {},
   "source": [
    "## Задание 2\n",
    "![image.png](attachment:image.png)"
   ]
  },
  {
   "cell_type": "markdown",
   "metadata": {},
   "source": [
    "### Решение\n",
    "Покажем, что в качестве проверочной матрицы для $G$ можно взять $H$, перемножив $G$ и $H^T$:\n",
    "$$\n",
    "GH^T = \n",
    "\\begin{pmatrix}\n",
    "1 & \\ldots & 0 &\\ldots & 0 & p_{11} & \\ldots & p_{1m} \\\\\n",
    "0 & \\ldots & 1 &\\ldots & 0 & p_{21} & \\ldots & p_{2m} \\\\\n",
    "\\cdots&\\cdots&\\cdots&\\cdots&\\cdots&\\cdots&\\cdots&\\cdots\\\\\n",
    "0 & \\ldots & 0 &\\ldots & 1 & p_{k1} & \\ldots & p_{km} \n",
    "\\end{pmatrix} \\cdot\n",
    "\\begin{pmatrix}\n",
    "-p_{11} & -p_{12} & \\ldots & -p_{1m} \\\\\n",
    "-p_{11} & -p_{12} & \\ldots & -p_{1m} \\\\\n",
    "\\cdots  & \\cdots  & \\cdots & \\cdots \\\\\n",
    "-p_{11} & -p_{12} & \\ldots & -p_{1m} \\\\\n",
    "1       &   0     & \\ldots &   0 \\\\\n",
    "0       &   1     & \\ldots &   0 \\\\\n",
    "\\cdots  & \\cdots  & \\cdots & \\cdots \\\\\n",
    "0       &\\ldots   &   0    &   1 \\\\\n",
    "\\end{pmatrix}\n",
    "=\n",
    "\\begin{pmatrix}\n",
    "-p_{11} + p_{11} & -p_{12} + p_{12} & \\ldots & -p_{1m} + p_{1m} \\\\\n",
    "-p_{21} + p_{21} & -p_{22} + p_{22} & \\ldots & -p_{2m} + p_{2m} \\\\\n",
    "     \\cdots      &      \\cdots      & \\cdots &      \\cdots      \\\\\n",
    "-p_{k1} + p_{k1} & -p_{k2} + p_{k2} & \\ldots & -p_{km} + p_{km} \\\\\n",
    "\\end{pmatrix}\n",
    "=0\n",
    "$$\n",
    "\n",
    "Произведение $GH^T$ есть нулевая матрица $\\Rightarrow$ $H$ является проверочной для $G$."
   ]
  },
  {
   "cell_type": "markdown",
   "metadata": {},
   "source": [
    "## Вывод\n",
    "В данной ЛР была написана программа, которая создает двоичную кодовую таблицу из порождающей матрицы и находит ее кодовое расстояние как минимальный вес кодовых слов. Также был показан способ нахождения проверочной матрицы при данной порождающей. Использование порождающей матрицы позволяет ускорить кодирование и, в случае больших кодовых таблиц, экономить память. "
   ]
  }
 ],
 "metadata": {
  "kernelspec": {
   "display_name": "Python 3",
   "language": "python",
   "name": "python3"
  },
  "language_info": {
   "codemirror_mode": {
    "name": "ipython",
    "version": 3
   },
   "file_extension": ".py",
   "mimetype": "text/x-python",
   "name": "python",
   "nbconvert_exporter": "python",
   "pygments_lexer": "ipython3",
   "version": "3.7.6"
  }
 },
 "nbformat": 4,
 "nbformat_minor": 4
}
