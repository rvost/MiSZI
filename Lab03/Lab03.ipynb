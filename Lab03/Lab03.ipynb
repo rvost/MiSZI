{
 "cells": [
  {
   "cell_type": "markdown",
   "metadata": {},
   "source": [
    "# Лабораторная работа №3 по курсу \"Методы и средства передачи информации\""
   ]
  },
  {
   "cell_type": "markdown",
   "metadata": {},
   "source": [
    "_Выполнил студент группы А-07-18 Востриков Роман_"
   ]
  },
  {
   "cell_type": "code",
   "execution_count": 45,
   "metadata": {},
   "outputs": [],
   "source": [
    "import ipywidgets as widgets # элементы интерактивного пользовательского интерфейса\n",
    "import itertools as it"
   ]
  },
  {
   "cell_type": "markdown",
   "metadata": {},
   "source": [
    "## Вариант 8 (3)"
   ]
  },
  {
   "cell_type": "markdown",
   "metadata": {},
   "source": [
    "## Блок №1\n",
    "### Задание\n",
    "\n",
    "Алфавит содержит 7 букв, которые встречаются с вероятностями 0.4, 0.2, 0.1, 0.1, 0.1, 0.05, 0.05. Осуществите кодирование по методу Шенона-Фано.\n",
    "\n",
    "Оценить выигрыш кодирования методом Фано по сравнению с равномерным кодом.\n",
    "\n",
    "Оценить среднюю длину кодовых слов по формуле:\n",
    "$$\\bar{l}=\\sum_{i=1}^N l_i P(A_i),$$\n",
    "где $l_i$ -длина кодового обозначения для сообщения $A$, $P(A_i)$ - вероятность сообщения $A_i$, а $N$ - общее число сообщений."
   ]
  },
  {
   "cell_type": "markdown",
   "metadata": {},
   "source": [
    "### Решение\n",
    "Имеется набор букв и соответствующих им вероятностей.\n",
    "Устанавливаем для набора пустое начальное кодовое слово. Производим разбиение набора на две группы с примерно одинаковыми суммами вероятностей. К кодовому слову первой группы добавляем 0, к кодовому слову второй группы добавляем 1. Продолжаем процедуру до тех пор, пока у каждого сообщения не будет уникального кодового слова. По мере нахождения каждое кодовое слово добавляется в отдельный набор, где каждому кодовому слову соответствует исходное сообщение.\n",
    "На вход подаётся сообщение, которое кодируется соответствующим кодовым словом из созданного набора и выводится.\n",
    "\n",
    "Для наглядности построим таблицу:\n",
    "\n",
    "|![Рис.1](codes-table.png \"Рис.1\")|\n",
    "|:--:|\n",
    "|Кодирование методом Шенона-Фано|\n",
    "\n",
    "Средняя длина слова: $L = 0.3\\times2 + 0.2\\times2 + 0.1\\times2 + 0.1\\times3 + 0.1\\times4 + 0.05\\times5 + 0.05\\times5 = 2.4$.\n",
    "\n",
    "При кодировании равномерным кодом кодовые слова выглядели бы так:\n",
    "\n",
    "|Буква        |  $1$|  $2$|  $3$|  $4$|  $5$|  $6$|  $7$|\n",
    "|:-----------:|:---:|:---:|:---:|:---:|:---:|:---:|:---:|\n",
    "|Кодовое слово|$000$|$001$|$010$|$011$|$100$|$101$|$110$|\n",
    "\n",
    "Средняя длина слова $L = 3$.\n",
    "Как можно заметить, средняя длина слова при кодировании методом Шеннона-Фано меньше, нежели при равномерном кодировании."
   ]
  },
  {
   "cell_type": "markdown",
   "metadata": {},
   "source": [
    "## Блок №2"
   ]
  },
  {
   "cell_type": "markdown",
   "metadata": {},
   "source": [
    "### Задание 1\n",
    "Написать программу для определения средней длины кодовых слов."
   ]
  },
  {
   "cell_type": "markdown",
   "metadata": {},
   "source": [
    "### Решение"
   ]
  },
  {
   "cell_type": "code",
   "execution_count": 44,
   "metadata": {},
   "outputs": [],
   "source": [
    "# функция для подсчета средней длины кодовых слов\n",
    "def aver_codelength(codes,probs):\n",
    "    if len(codes) == len(probs):\n",
    "        aver = 0\n",
    "        for c, p in zip(codes,probs):\n",
    "            aver += len(c)*p\n",
    "        return aver\n",
    "    else:\n",
    "        raise Exception(\"Количество кодовых слов не соответствует количеству вероятностей\")"
   ]
  },
  {
   "cell_type": "code",
   "execution_count": 10,
   "metadata": {},
   "outputs": [],
   "source": [
    "# поле для ввода кодовых слов\n",
    "codes_wg_21 = widgets.Text(\n",
    "    placeholder='Введите кодовые слова',\n",
    "    description='Коды:',\n",
    "    disabled=False\n",
    ")\n",
    "\n",
    "# поле для ввода вероятностей кодов\n",
    "probs_wg_21 =widgets.Text(\n",
    "    placeholder='Введите вероятности',\n",
    "    description='Вероятности:',\n",
    "    disabled=False\n",
    ")\n",
    "\n",
    "# вывод результата\n",
    "output_21 = widgets.Label()"
   ]
  },
  {
   "cell_type": "code",
   "execution_count": 11,
   "metadata": {},
   "outputs": [],
   "source": [
    "# обработка нажатия на кнопку\n",
    "def on_eval_clicked_21(e):\n",
    "    codes = list(codes_wg_21.value.split(' '))\n",
    "    probs = list(map(float, probs_wg_21.value.split(' ')))\n",
    "    aver = aver_codelength(codes, probs)\n",
    "    output_21.value = 'Средняя длина кодовых слов: ' + str(aver)\n",
    "\n",
    "# кнопка для вывода результата\n",
    "eval_button_21 = widgets.Button(description='Проверить')\n",
    "eval_button_21.on_click(on_eval_clicked_21)"
   ]
  },
  {
   "cell_type": "code",
   "execution_count": 12,
   "metadata": {},
   "outputs": [
    {
     "data": {
      "application/vnd.jupyter.widget-view+json": {
       "model_id": "a8bbda4c94ba4a158acc835a6dc6fd46",
       "version_major": 2,
       "version_minor": 0
      },
      "text/plain": [
       "Text(value='', description='Коды:', placeholder='Введите коовые слова')"
      ]
     },
     "metadata": {},
     "output_type": "display_data"
    },
    {
     "data": {
      "application/vnd.jupyter.widget-view+json": {
       "model_id": "c9cea0b1d9d1427996c6ce71d6c8a073",
       "version_major": 2,
       "version_minor": 0
      },
      "text/plain": [
       "Text(value='', description='Вероятности:', placeholder='Введите вероятности')"
      ]
     },
     "metadata": {},
     "output_type": "display_data"
    },
    {
     "data": {
      "application/vnd.jupyter.widget-view+json": {
       "model_id": "d005d6bf82c147f885eafd89fca953c0",
       "version_major": 2,
       "version_minor": 0
      },
      "text/plain": [
       "Button(description='Проверить', style=ButtonStyle())"
      ]
     },
     "metadata": {},
     "output_type": "display_data"
    },
    {
     "data": {
      "application/vnd.jupyter.widget-view+json": {
       "model_id": "be479187639d4821bfd7c07e2ebe9ec0",
       "version_major": 2,
       "version_minor": 0
      },
      "text/plain": [
       "Label(value='')"
      ]
     },
     "metadata": {},
     "output_type": "display_data"
    }
   ],
   "source": [
    "display(codes_wg_21, probs_wg_21, eval_button_21, output_21)"
   ]
  },
  {
   "cell_type": "markdown",
   "metadata": {},
   "source": [
    "### Задание 2\n",
    "Написать программу для определения является ли код префиксным."
   ]
  },
  {
   "cell_type": "markdown",
   "metadata": {},
   "source": [
    "### Решение"
   ]
  },
  {
   "cell_type": "code",
   "execution_count": 2,
   "metadata": {},
   "outputs": [],
   "source": [
    "# функция, определяющая является ли код префиксным\n",
    "def is_prefix(codes):\n",
    "    isprefix = True\n",
    "    length = len(codes)\n",
    "    i = 0\n",
    "    while(i < length and isprefix):\n",
    "        j = 0\n",
    "        while(j < length and isprefix):\n",
    "            if(i != j):\n",
    "                isprefix = not (codes[i].find(codes[j]) == 0)\n",
    "            j+=1\n",
    "        i+=1\n",
    "    return isprefix"
   ]
  },
  {
   "cell_type": "code",
   "execution_count": 20,
   "metadata": {},
   "outputs": [],
   "source": [
    "# поле для ввода кодовых слов\n",
    "codes_wg_22 = widgets.Text(\n",
    "    placeholder='Введите кодовые слова',\n",
    "    description='Кодовые слова:',\n",
    "    disabled=False\n",
    ")\n",
    "\n",
    "# вывод результата\n",
    "output_22 = widgets.Label()"
   ]
  },
  {
   "cell_type": "code",
   "execution_count": 4,
   "metadata": {},
   "outputs": [],
   "source": [
    "# обработка нажатия на кнопку\n",
    "def on_eval_clicked_22(e):\n",
    "    codes = list(codes_wg_22.value.split(' '))\n",
    "    result = is_prefix(codes)\n",
    "    if result:\n",
    "        output_22.value = 'Код префиксный'\n",
    "    else:\n",
    "        output_22.value = 'Код не префиксный'\n",
    "\n",
    "# кнопка для вывода результата\n",
    "eval_button_22 = widgets.Button(description='Проверить')\n",
    "eval_button_22.on_click(on_eval_clicked_2d2)"
   ]
  },
  {
   "cell_type": "code",
   "execution_count": 21,
   "metadata": {},
   "outputs": [
    {
     "data": {
      "application/vnd.jupyter.widget-view+json": {
       "model_id": "0929eb9b77ed45f798d94d37e8d0bc05",
       "version_major": 2,
       "version_minor": 0
      },
      "text/plain": [
       "Text(value='', description='Кодовые слова:', placeholder='Введите кодовые слова')"
      ]
     },
     "metadata": {},
     "output_type": "display_data"
    },
    {
     "data": {
      "application/vnd.jupyter.widget-view+json": {
       "model_id": "96a5f847de244db7a5cf76bff06c96e4",
       "version_major": 2,
       "version_minor": 0
      },
      "text/plain": [
       "Button(description='Проверить', style=ButtonStyle())"
      ]
     },
     "metadata": {},
     "output_type": "display_data"
    },
    {
     "data": {
      "application/vnd.jupyter.widget-view+json": {
       "model_id": "8df44add710a4b3a83b242e77c65759e",
       "version_major": 2,
       "version_minor": 0
      },
      "text/plain": [
       "Label(value='')"
      ]
     },
     "metadata": {},
     "output_type": "display_data"
    }
   ],
   "source": [
    "display(codes_wg_22, eval_button_22, output_22)"
   ]
  },
  {
   "cell_type": "markdown",
   "metadata": {},
   "source": [
    "### Задание 3\n",
    "Написать программу для кодирования и декодирования с помощью функции xor  (исключающее или)."
   ]
  },
  {
   "cell_type": "markdown",
   "metadata": {},
   "source": [
    "### Решение"
   ]
  },
  {
   "cell_type": "code",
   "execution_count": 43,
   "metadata": {},
   "outputs": [],
   "source": [
    "# функция реализующая кодирование с помощью XOR\n",
    "def xor_code(s, t):\n",
    "    key = it.islice(it.cycle(t), len(s)) # приведение длины ключа к длине сообщения\n",
    "    return bytes([a ^ b for a, b in zip(s, key)])"
   ]
  },
  {
   "cell_type": "code",
   "execution_count": 10,
   "metadata": {},
   "outputs": [],
   "source": [
    "# поле для ввода сообщения\n",
    "msg_wg_23 = widgets.Text(\n",
    "    placeholder='Введите сообщение',\n",
    "    description='Сообщение:',\n",
    "    disabled=False\n",
    ")\n",
    "\n",
    "# поле для ввода ключа\n",
    "key_wg_23 =widgets.Text(\n",
    "    placeholder='Введите ключ',\n",
    "    description='Ключ:',\n",
    "    disabled=False\n",
    ")\n",
    "\n",
    "# поле вывода результата\n",
    "output_23 =widgets.Text(\n",
    "    placeholder='Результат',\n",
    "    description='Результат:',\n",
    "    disabled=True\n",
    ")"
   ]
  },
  {
   "cell_type": "code",
   "execution_count": 41,
   "metadata": {},
   "outputs": [],
   "source": [
    "# обработка нажатия на кнопку\n",
    "def on_eval_clicked_22(e):\n",
    "    msg = msg_wg_23.value.encode('utf-8')\n",
    "    key = key_wg_23.value.encode('utf-8')\n",
    "    output_23.value = xor_code(msg, key).decode(\"utf-8\")\n",
    "\n",
    "# кнопка для вывода результата\n",
    "eval_button_23 = widgets.Button(description='XOR')\n",
    "eval_button_23.on_click(on_eval_clicked_22)"
   ]
  },
  {
   "cell_type": "code",
   "execution_count": 42,
   "metadata": {},
   "outputs": [
    {
     "data": {
      "application/vnd.jupyter.widget-view+json": {
       "model_id": "f4e6136bbeae4d9cb6034fb77b28d3b7",
       "version_major": 2,
       "version_minor": 0
      },
      "text/plain": [
       "Text(value='eXXB\\x10XC\\x10P', description='Сообщение:', placeholder='Введите сообщение')"
      ]
     },
     "metadata": {},
     "output_type": "display_data"
    },
    {
     "data": {
      "application/vnd.jupyter.widget-view+json": {
       "model_id": "12df79d867894082be87681b3ab5d81b",
       "version_major": 2,
       "version_minor": 0
      },
      "text/plain": [
       "Text(value='101101001', description='Ключ:', placeholder='Введите ключ')"
      ]
     },
     "metadata": {},
     "output_type": "display_data"
    },
    {
     "data": {
      "application/vnd.jupyter.widget-view+json": {
       "model_id": "71437b270ed044f485307135cc3c16b5",
       "version_major": 2,
       "version_minor": 0
      },
      "text/plain": [
       "Button(description='XOR', style=ButtonStyle())"
      ]
     },
     "metadata": {},
     "output_type": "display_data"
    },
    {
     "data": {
      "application/vnd.jupyter.widget-view+json": {
       "model_id": "2f66cc14b2a34a38bdc1907fa2775a8a",
       "version_major": 2,
       "version_minor": 0
      },
      "text/plain": [
       "Text(value='This is a', description='Результат:', disabled=True, placeholder='Результат')"
      ]
     },
     "metadata": {},
     "output_type": "display_data"
    }
   ],
   "source": [
    "display(msg_wg_23, key_wg_23, eval_button_23, output_23)"
   ]
  },
  {
   "cell_type": "markdown",
   "metadata": {},
   "source": [
    "## Вывод\n",
    "\n",
    "Т.к. средняя длина слова, закодированного методом Шеннона-Фано, меньше средней длины слова, закодированного равномерным кодом, можно сделать вывод, что кодирование кодом Шеннона-Фано экономнее, чем кодирование равномерном кодом. \n",
    "С помощью логической функции исключающее ИЛИ можно кодировать и декодировать сообщения однозначно. "
   ]
  }
 ],
 "metadata": {
  "kernelspec": {
   "display_name": "Python 3",
   "language": "python",
   "name": "python3"
  },
  "language_info": {
   "codemirror_mode": {
    "name": "ipython",
    "version": 3
   },
   "file_extension": ".py",
   "mimetype": "text/x-python",
   "name": "python",
   "nbconvert_exporter": "python",
   "pygments_lexer": "ipython3",
   "version": "3.7.4"
  }
 },
 "nbformat": 4,
 "nbformat_minor": 4
}
