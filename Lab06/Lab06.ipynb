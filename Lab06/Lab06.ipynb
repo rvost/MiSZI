{
 "cells": [
  {
   "cell_type": "markdown",
   "metadata": {},
   "source": [
    "# Лабораторная  работа №6 по курсу \"Методы и средства передачи информации\""
   ]
  },
  {
   "cell_type": "markdown",
   "metadata": {},
   "source": [
    "_Выполнил студент группы А-07-18 Востриков Роман_"
   ]
  },
  {
   "cell_type": "markdown",
   "metadata": {},
   "source": [
    "## Задание 1\n",
    "\n",
    "а) Закодировать по методу Хэмминга число 11. В полученный код ввести одиночную ошибку и определить номер искаженного разряда.\n",
    "\n",
    "б) Пусть $11010011$ и $11001111$ искаженные слова расширенного кода Хемминга длины 8. Какое из этих слов содержит одиночную ошибку, а какое – двойную ошибку? В случае одиночной ошибки определить ее местоположение."
   ]
  },
  {
   "cell_type": "markdown",
   "metadata": {},
   "source": [
    "### Решение"
   ]
  },
  {
   "cell_type": "markdown",
   "metadata": {},
   "source": [
    "### а)\n",
    "Представим число $11$ в двоичной системе счисления: ${11}_{10} = {1011}_2$.\n",
    "Сообщение содержит 4 информационных бита, следовательно нужно добавить 3 контрольных бита на позиции 1, 2, 4. Получаем сообщение: $k_1\\,k_2\\,1\\,k_3\\,0\\,1\\,1$, где $k_1$, $k_2$, $k_3$ – контрольные биты.\n",
    "\n",
    "Найдем контрольные биты:\n",
    "$$\n",
    "\\begin{array}{lcl}\n",
    "k_1 = (a_3 + a_5 + a_7)\\mod 2 = (1 + 0 + 1)\\mod 2 = 0 \\\\\n",
    "k_2 = (a_3 + a_6 + a_7)\\mod 2 = (1 + 1 + 1)\\mod 2 = 1 \\\\\n",
    "k_3 = (a_5 + a_6 + a_7)\\mod 2 = (0 + 1 + 1)\\mod 2 = 0\n",
    "\\end{array}\n",
    "$$\n",
    "\n",
    "Итоговое сообщение, закодированное кодом Хэмминга(7,4): $0110011$.\n",
    "\n",
    "Пусть ошибка будет в 6-м бите, тогда сообщение примет вид: $0110001$. Определим местоположение ошибки, с помощью контрольных битов:\n",
    "$$\n",
    "\\begin{array}{lcl}\n",
    "s_1 = (a_1 + a_3 + a_5 + a_7)\\mod 2 = (0 + 1 + 0 + 1)\\mod 2 = 0\\quad & + \\\\\n",
    "s_2 = (a_2 + a_3 + a_6 + a_7)\\mod 2 = (1 + 1 + 0 + 1)\\mod 2 = 1\\quad & - \\\\\n",
    "s_3 = (a_4 + a_5 + a_6 + a_7)\\mod 2 = (0 + 0 + 0 + 1)\\mod 2 = 1\\quad & -\n",
    "\\end{array}\n",
    "$$\n",
    "Контрольные биты, стоящие на позициях 2 и 4 нечётны, отсюда бит ошибки - $2 + 4 = 6$."
   ]
  },
  {
   "cell_type": "markdown",
   "metadata": {},
   "source": [
    "### б)\n",
    "Проверим слово $11010011$:\n",
    "$$\n",
    "s = (a_1 + a_2 + a_3 + a_4 + a_5 + a_6 + a_7 + a_8)\\mod 2 = (1 + 1 + 0 + 1 + 0 + 0 + 1 + 1)\\mod 2 = 1\n",
    "$$\n",
    "$s=1$ $\\Rightarrow$ в слове допущена одна ошибка. Найдём её.\n",
    "$$\n",
    "\\begin{array}{lcl}\n",
    "s_1 = (a_1 + a_3 + a_5 + a_7)\\mod 2 = (1 + 0 + 0 + 1)\\mod 2 = 0\\quad & + \\\\\n",
    "s_2 = (a_2 + a_3 + a_6 + a_7)\\mod 2 = (1 + 0 + 0 + 1)\\mod 2 = 0\\quad & + \\\\\n",
    "s_3 = (a_4 + a_5 + a_6 + a_7)\\mod 2 = (1 + 0 + 0 + 1)\\mod 2 = 0\\quad & +\n",
    "\\end{array}\n",
    "$$\n",
    "$s_1,\\, s_2,\\, s_3$ равны 0, значит ошибка произошла в бите $a_8$.\n",
    "\n",
    "\n",
    "\n",
    "Проверим слово $11001111$.\n",
    "$$\n",
    "s = (a_1 + a_2 + a_3 + a_4 + a_5 + a_6 + a_7 + a_8)\\mod 2 = (1 + 1 + 0 + 0 + 1 + 1 + 1 + 1)\\mod 2 = 0\n",
    "$$\n",
    "Но при этом:\n",
    "$$\n",
    "\\begin{array}{lcl}\n",
    "s_1 = (a_1 + a_3 + a_5 + a_7)\\mod 2 = (1 + 0 + 1 + 1)\\mod 2 = 1\\quad & - \\\\\n",
    "s_2 = (a_2 + a_3 + a_6 + a_7)\\mod 2 = (1 + 0 + 1 + 1)\\mod 2 = 1\\quad & - \\\\\n",
    "s_3 = (a_4 + a_5 + a_6 + a_7)\\mod 2 = (0 + 1 + 1 + 1)\\mod 2 = 1\\quad & -\n",
    "\\end{array}\n",
    "$$\n",
    "Значит в слове допущено 2 ошибки, нельзя определить их местоположение."
   ]
  },
  {
   "cell_type": "markdown",
   "metadata": {},
   "source": [
    "## Задание 2\n",
    "\n",
    "Составить программу для кодирования методом Хемминга двоичного слова длины M и определения  номера  искаженного разряда."
   ]
  },
  {
   "cell_type": "markdown",
   "metadata": {},
   "source": [
    "### Решение"
   ]
  },
  {
   "cell_type": "markdown",
   "metadata": {},
   "source": [
    "Для удобства обработки будем представлять слова в виде массивов двоичных цифр, для преобразования строки в массив и обратно будем использовать вспомогательные функции из лабораторной работы №5."
   ]
  },
  {
   "cell_type": "code",
   "execution_count": 75,
   "metadata": {},
   "outputs": [],
   "source": [
    "import numpy as np # импорт библиотеки для облегчения работы с массивами и векторизации вычислений "
   ]
  },
  {
   "cell_type": "code",
   "execution_count": 76,
   "metadata": {},
   "outputs": [],
   "source": [
    "# функция для получения массива двоичных цифр из строки\n",
    "def to_array(msg):\n",
    "    return [int(d) for d in msg]\n",
    "\n",
    "# функция для приведения массива двоичных цифр к строковому представлению\n",
    "def stringify(arr):\n",
    "    return np.array2string(arr, separator='')[1:-1]"
   ]
  },
  {
   "cell_type": "markdown",
   "metadata": {},
   "source": [
    "Пред началом реализации алгоритмов кодирования и декодирования определим несколько вспомогательных функций для работы со степенями 2:"
   ]
  },
  {
   "cell_type": "code",
   "execution_count": 77,
   "metadata": {},
   "outputs": [],
   "source": [
    "# функция проверяет что n > 0 является степенью 2\n",
    "def is_power_of_2(n):\n",
    "    return n & (n - 1) == 0"
   ]
  },
  {
   "cell_type": "code",
   "execution_count": 78,
   "metadata": {},
   "outputs": [],
   "source": [
    "# функция для получения первых n степеней 2\n",
    "def get_powers_2(n):\n",
    "    powers = np.arange(n)\n",
    "    return np.full((n,), 2) ** powers"
   ]
  },
  {
   "cell_type": "code",
   "execution_count": 79,
   "metadata": {},
   "outputs": [],
   "source": [
    "# определение количества контрольных битов для сообщения длины M\n",
    "def parity_count(M):\n",
    "    from math import ceil, floor, log2\n",
    "    \n",
    "    n = (M << 1) if is_power_of_2(M) else 2 ** ceil(log2(M)) # n - наименьшая степень 2, превосходящая M\n",
    "    lower_bin = floor(log2(n))\n",
    "    upper_bin = lower_bin + 1\n",
    "    data_bit_boundary = n - lower_bin - 1\n",
    "    return lower_bin if M <= data_bit_boundary else upper_bin"
   ]
  },
  {
   "cell_type": "code",
   "execution_count": 80,
   "metadata": {},
   "outputs": [],
   "source": [
    "# определение битов данных, соответствующих контрольному биту в указанной позиции\n",
    "def data_bits(parity, datalen):\n",
    "    if is_power_of_2(parity):\n",
    "        data_index  = 1 # позиция бита в строке данных\n",
    "        code_index = 3 \t# позиция бита в кодовом слове\n",
    "\n",
    "        indexes = [] # позиции битов в кодовом слове, которые контроллирует данный бит четности \n",
    "\n",
    "        while data_index <= datalen:\n",
    "            curr_bit_is_data = not is_power_of_2(code_index)\n",
    "            if curr_bit_is_data and (code_index % (parity << 1)) >= parity:\n",
    "                indexes.append(code_index) \n",
    "            data_index += curr_bit_is_data\n",
    "            code_index += 1\n",
    "\n",
    "        return np.array(indexes)\n",
    "    else:\n",
    "        raise ValueError(\"Контрольные биты могут находится только в позициях, равных степеням двойки\")"
   ]
  },
  {
   "cell_type": "markdown",
   "metadata": {},
   "source": [
    "Используя определенные выше вспомогательные функции можно реализовать кодирование методом Хемминга:"
   ]
  },
  {
   "cell_type": "code",
   "execution_count": 90,
   "metadata": {},
   "outputs": [],
   "source": [
    "# функция кодирования простым кодом Хемминга (без бита общей проверки четности)\n",
    "def encode(msg):\n",
    "    length = len(msg)\n",
    "    parity = parity_count(length)\n",
    "    length += parity # итоговая длина кода\n",
    "    \n",
    "    data = np.array(msg) # информационные биты\n",
    "    powers = get_powers_2(parity) # позиции контрольных битов (считая с 1)\n",
    "    code = np.zeros(length, dtype = 'i8')\n",
    "   \n",
    "    mask = np.full_like(code, True, dtype ='bool') # маска битов данных в коде\n",
    "    mask[powers-1] = False \n",
    "    \n",
    "    code[mask] = data # устанавливаем биты данных в коде\n",
    "    \n",
    "    # устанавливаем контрольные биты\n",
    "    for p in powers:\n",
    "        bits = data_bits(p, data.size) - 1 # позиции битов данных(считая с 0)\n",
    "        code[p-1] = code[bits].sum() % 2\n",
    "    \n",
    "    return stringify(code)"
   ]
  },
  {
   "cell_type": "code",
   "execution_count": 127,
   "metadata": {},
   "outputs": [],
   "source": [
    "# функция декодирования сообщений, закодированных простым кодом Хемминга (без бита общей проверки четности)\n",
    "# функция возвращает сообщение и позицию ошибки (считая с 1, если ее не было - 0)\n",
    "def decode(msg):\n",
    "    from math import floor, log2\n",
    "    length = len(msg)\n",
    "    parity =  floor(log2(length)) + 1 # число проверочных битов в кодовом слове\n",
    "    powers = get_powers_2(parity) # позиции контрольных битов (считая с 1)\n",
    "    \n",
    "    code = np.array(msg)\n",
    "    \n",
    "    mask = np.full_like(code, True, dtype ='bool') # маска битов данных в коде\n",
    "    mask[powers-1] = False \n",
    "    \n",
    "    actual = code[np.invert(mask)] # полученные контрольные биты\n",
    "    \n",
    "    # вычисляем контролные биты, соответствующие полученному сообщению\n",
    "    expected = np.zeros_like(actual)\n",
    "    for i in range(actual.size):\n",
    "        bits = data_bits(powers[i], length-parity) - 1 # позиции битов данных(считая с 0)\n",
    "        expected[i] = code[bits].sum() % 2\n",
    "    \n",
    "    errors = np.where(expected != actual)[0] # несовпадающие контрольные биты\n",
    "    \n",
    "    if errors.size != 0:\n",
    "        pos = np.sum(2 ** errors) # позиция бита ошибки в кодовом слове (считая с 1)\n",
    "        code[pos-1] = 0 if code[pos-1] == 1 else 1\n",
    "        return (stringify(code[mask]), pos)\n",
    "    else:\n",
    "        return (stringify(code[mask]), 0)    "
   ]
  },
  {
   "cell_type": "markdown",
   "metadata": {},
   "source": [
    "Проверим корректность работы кодирования/декодирования на примере из задания 1А, закодируем сообщение 1011:"
   ]
  },
  {
   "cell_type": "code",
   "execution_count": 132,
   "metadata": {},
   "outputs": [
    {
     "data": {
      "text/plain": [
       "'0110011'"
      ]
     },
     "execution_count": 132,
     "metadata": {},
     "output_type": "execute_result"
    }
   ],
   "source": [
    "encode(to_array('1011'))"
   ]
  },
  {
   "cell_type": "markdown",
   "metadata": {},
   "source": [
    "Мы получили такое же кодовое слово, как и в задании 1, декодируем его, а также версию с одной ошибкой в 6 бите:"
   ]
  },
  {
   "cell_type": "code",
   "execution_count": 133,
   "metadata": {},
   "outputs": [
    {
     "name": "stdout",
     "output_type": "stream",
     "text": [
      "('1011', 0)\n",
      "('1011', 6)\n"
     ]
    }
   ],
   "source": [
    "print(decode(to_array('0110011')))\n",
    "print(decode(to_array('0110001')))"
   ]
  },
  {
   "cell_type": "markdown",
   "metadata": {},
   "source": [
    "В обоих случаях мы получили верное исходное сообщение, единичная ошибка была обнаружена и исправлена."
   ]
  },
  {
   "cell_type": "markdown",
   "metadata": {},
   "source": [
    "## Вывод\n",
    "\n",
    "В лабораторной работе было показано кодирование сообщений методом Хэмминга. Этот метод удобен тем, что позволяет исправлять единичные ошибки (расширенный код позволяет обнаруживать двойные). Главная особенность этого метода состоит в том, что контрольные биты ставятся на конкретные позиции, а не в конце сообщения, как, например, в прямоугольном коде. "
   ]
  }
 ],
 "metadata": {
  "kernelspec": {
   "display_name": "Python 3",
   "language": "python",
   "name": "python3"
  },
  "language_info": {
   "codemirror_mode": {
    "name": "ipython",
    "version": 3
   },
   "file_extension": ".py",
   "mimetype": "text/x-python",
   "name": "python",
   "nbconvert_exporter": "python",
   "pygments_lexer": "ipython3",
   "version": "3.7.6"
  }
 },
 "nbformat": 4,
 "nbformat_minor": 4
}
