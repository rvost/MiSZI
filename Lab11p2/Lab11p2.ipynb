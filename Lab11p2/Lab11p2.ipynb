{
 "cells": [
  {
   "cell_type": "markdown",
   "metadata": {},
   "source": [
    "# Лабораторная работа №11, часть 2 по курсу \"Методы и средства передачи информации\""
   ]
  },
  {
   "cell_type": "markdown",
   "metadata": {},
   "source": [
    "_Выполнил студент группы А-07-18 Востриков Роман_"
   ]
  },
  {
   "cell_type": "markdown",
   "metadata": {},
   "source": [
    "## Задание 1 \n",
    "Закодировать в систематическом и несистематическом коде сообщения 1001  с помощью (7,4) циклического кода с порождающим многочленом $g(x)=x^3+x+1$."
   ]
  },
  {
   "cell_type": "markdown",
   "metadata": {},
   "source": [
    "### Решение\n",
    "$r = n - k = 7 - 4 =3$ - число проверочных бит.\n",
    "\n",
    "$g(x)=x^3+x+1$\n",
    "\n",
    "$a = (1\\:0\\:0\\:1) = a(x) = 1 + x^3$\n",
    "#### Несистематический код:\n",
    "\n",
    "$s(x)=a(x)g(x)=(x^3+1)(x^3+x+1) =x^6 + x^4 +2x^3+x+1 =1 + x + x^4 + x^6$ $\\Rightarrow$ $s = (1\\:1\\:0\\:0\\:1\\:0\\:1)$\n",
    "#### Систематический код:\n",
    "\n",
    "$s(x) = x^r a(x)+ \\lfloor x^r a(x)\\rfloor\\mod g(x)$ \n",
    "\n",
    "$x^3(x^3+1) + \\lfloor x^3(x^3+1)\\rfloor\\mod (x^3+x+1) = x^6+x^3 + \\lfloor x^6+x^3\\rfloor\\mod (x^3+x+1) = x^6+x^3+x^2+ x$\n",
    "\n",
    "$s = (0\\:1\\:1\\:1\\:0\\:0\\:1)$"
   ]
  },
  {
   "cell_type": "markdown",
   "metadata": {},
   "source": [
    "## Задание 2\n",
    "Составить программу, которая выводит все кодовые слова (7,4) несистематического кода с порождающим многочленом $g(x)=x^3+x+1$."
   ]
  },
  {
   "cell_type": "markdown",
   "metadata": {},
   "source": [
    "### Решение"
   ]
  },
  {
   "cell_type": "code",
   "execution_count": 2,
   "metadata": {},
   "outputs": [],
   "source": [
    "# получение всех сообщений указанной длины\n",
    "def all_messages(length):\n",
    "    words =[i for i in range(0, 2**length)]\n",
    "    strings =[\"{0:b}\".format(i).zfill(length) for i in words]\n",
    "    bits = [list(map(int, str)) for str in strings]\n",
    "    return bits"
   ]
  },
  {
   "cell_type": "code",
   "execution_count": 3,
   "metadata": {},
   "outputs": [],
   "source": [
    "# функция умножения многочленов над полем Zp из ЛР 11\n",
    "def multiply(a, b, p = 2):\n",
    "    res = [0]*(len(a)+len(b)-1)\n",
    "    for pow_ai,ai in enumerate(a):\n",
    "        for pow_bi,bi in enumerate(b):\n",
    "            res[pow_ai+pow_bi] += ai*bi\n",
    "    for i in range(len(res)):\n",
    "        res[i] %= p\n",
    "    return res"
   ]
  },
  {
   "cell_type": "code",
   "execution_count": 21,
   "metadata": {},
   "outputs": [],
   "source": [
    "# получение всех кодовых слов для порождающего многочлена g и слов длины bits\n",
    "def all_codewords(g, bits):\n",
    "    return [multiply(m, g) for m in all_messages(bits)]"
   ]
  },
  {
   "cell_type": "code",
   "execution_count": 20,
   "metadata": {},
   "outputs": [
    {
     "data": {
      "text/plain": [
       "[[0, 0, 0, 0, 0, 0, 0],\n",
       " [0, 0, 0, 1, 1, 0, 1],\n",
       " [0, 0, 1, 1, 0, 1, 0],\n",
       " [0, 0, 1, 0, 1, 1, 1],\n",
       " [0, 1, 1, 0, 1, 0, 0],\n",
       " [0, 1, 1, 1, 0, 0, 1],\n",
       " [0, 1, 0, 1, 1, 1, 0],\n",
       " [0, 1, 0, 0, 0, 1, 1],\n",
       " [1, 1, 0, 1, 0, 0, 0],\n",
       " [1, 1, 0, 0, 1, 0, 1],\n",
       " [1, 1, 1, 0, 0, 1, 0],\n",
       " [1, 1, 1, 1, 1, 1, 1],\n",
       " [1, 0, 1, 1, 1, 0, 0],\n",
       " [1, 0, 1, 0, 0, 0, 1],\n",
       " [1, 0, 0, 0, 1, 1, 0],\n",
       " [1, 0, 0, 1, 0, 1, 1]]"
      ]
     },
     "execution_count": 20,
     "metadata": {},
     "output_type": "execute_result"
    }
   ],
   "source": [
    "all_codewords(g=[1, 1, 0, 1], bits=4)"
   ]
  },
  {
   "cell_type": "code",
   "execution_count": 18,
   "metadata": {},
   "outputs": [
    {
     "data": {
      "text/plain": [
       "[1, 0, 0, 1]"
      ]
     },
     "execution_count": 18,
     "metadata": {},
     "output_type": "execute_result"
    }
   ],
   "source": [
    "all_messages(4)[9]"
   ]
  },
  {
   "cell_type": "markdown",
   "metadata": {},
   "source": [
    "## Задание 3\n",
    "Найти чему будут равны степени x от 2 до 7 по модулю $g(x)=x^3+x+1$."
   ]
  },
  {
   "cell_type": "markdown",
   "metadata": {},
   "source": [
    "### Решение\n",
    "$\n",
    "x^2 \\mod (x^3+x+1) = x^2\n",
    "$\n",
    "\n",
    "$\n",
    "x^3 \\mod (x^3+x+1) = x+1\n",
    "$\n",
    "\n",
    "$\n",
    "x^4 \\mod (x^3+x+1) = x^2 + x\n",
    "$\n",
    "\n",
    "$\n",
    "x^5 \\mod (x^3+x+1) = x^2 + x +1\n",
    "$\n",
    "\n",
    "$\n",
    "x^6 \\mod (x^3+x+1) = x^2 + 1 \n",
    "$\n",
    "\n",
    "$\n",
    "x^7 \\mod (x^3+x+1) = 1\n",
    "$"
   ]
  },
  {
   "cell_type": "markdown",
   "metadata": {},
   "source": [
    "## Вывод\n",
    "\n",
    "В ходе данной лабораторной работы было рассмотрено приложение теории конечных полей к кодированию сообщений. Была составлена программа для построения кодовой таблицы несистематического кода по заданному порождающему многочлену. "
   ]
  }
 ],
 "metadata": {
  "kernelspec": {
   "display_name": "Python 3",
   "language": "python",
   "name": "python3"
  },
  "language_info": {
   "codemirror_mode": {
    "name": "ipython",
    "version": 3
   },
   "file_extension": ".py",
   "mimetype": "text/x-python",
   "name": "python",
   "nbconvert_exporter": "python",
   "pygments_lexer": "ipython3",
   "version": "3.7.6"
  }
 },
 "nbformat": 4,
 "nbformat_minor": 4
}
