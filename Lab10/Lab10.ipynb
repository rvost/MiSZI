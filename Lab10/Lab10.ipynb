{
 "cells": [
  {
   "cell_type": "markdown",
   "metadata": {},
   "source": [
    "# Лабораторная работа №10 по курсу \"Методы и средства передачи информации\""
   ]
  },
  {
   "cell_type": "markdown",
   "metadata": {},
   "source": [
    "_Выполнил студент группы А-07-18 Востриков Роман_"
   ]
  },
  {
   "cell_type": "markdown",
   "metadata": {},
   "source": [
    "## Задание 1\n",
    "\n",
    "Составить программу для нахождения $a^b \\mod p$, где $a$, $b$ - натуральные числа и $b$ может быть большим числом."
   ]
  },
  {
   "cell_type": "markdown",
   "metadata": {},
   "source": [
    "### Решение"
   ]
  },
  {
   "cell_type": "code",
   "execution_count": 19,
   "metadata": {},
   "outputs": [],
   "source": [
    "def mod_power(a, b, p): \n",
    "    \n",
    "    from math import gcd\n",
    "    if gcd(a, p) != 1:\n",
    "        raise Exception(\"a и p должны быть взаимно простыми числами\")\n",
    "    \n",
    "    res = 1\n",
    "    \n",
    "    while (b > 0):   \n",
    "        if (b & 1): # <=> b % 2 == 1, но подходит для больших b\n",
    "            res = (res * a) % p\n",
    "        b = b >> 1 # <=> b = b/2\n",
    "        a = (a * a) % p;\n",
    "       \n",
    "    return res; "
   ]
  },
  {
   "cell_type": "markdown",
   "metadata": {},
   "source": [
    "## Задание 2\n",
    "\n",
    "Составить программу для нахождения минимального числа длины $n$ кратного 3, 4, 5. Указание $n$ может быть большим. Вывести последние 30 цифр такого числа."
   ]
  },
  {
   "cell_type": "code",
   "execution_count": 50,
   "metadata": {},
   "outputs": [],
   "source": [
    "# нахождение наименьшего числа длины n, делящегося на divisor\n",
    "def least_multiple(divisor, n):\n",
    "    min = pow(10, n-1)\n",
    "    if min % divisor == 0:\n",
    "        return min\n",
    "    else:\n",
    "        return (min + divisor) - (min % divisor) "
   ]
  },
  {
   "cell_type": "code",
   "execution_count": 62,
   "metadata": {},
   "outputs": [],
   "source": [
    "def task_2(n):\n",
    "    # 𝑛 кратно 3, 4, 5 <=> 𝑛 кратно 60.\n",
    "    res = str(least_multiple(60, n))\n",
    "    return res if len(res)<=30 else '...' + res[-30:]"
   ]
  },
  {
   "cell_type": "markdown",
   "metadata": {},
   "source": [
    "## Вывод"
   ]
  },
  {
   "cell_type": "markdown",
   "metadata": {},
   "source": [
    "В лабораторной работе были разработаны алгоритмы для нахождения $a^b \\mod p$ и минимального числа, кратного заданному длинны $n$. Для разработки алгоритмов были применены понятия теории групп."
   ]
  }
 ],
 "metadata": {
  "kernelspec": {
   "display_name": "Python 3",
   "language": "python",
   "name": "python3"
  },
  "language_info": {
   "codemirror_mode": {
    "name": "ipython",
    "version": 3
   },
   "file_extension": ".py",
   "mimetype": "text/x-python",
   "name": "python",
   "nbconvert_exporter": "python",
   "pygments_lexer": "ipython3",
   "version": "3.7.6"
  }
 },
 "nbformat": 4,
 "nbformat_minor": 4
}
